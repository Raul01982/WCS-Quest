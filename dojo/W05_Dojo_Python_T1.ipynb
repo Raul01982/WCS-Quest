{
  "cells": [
    {
      "cell_type": "markdown",
      "metadata": {
        "id": "S-1QsefXKWpn"
      },
      "source": [
        "# Dojo Python\n",
        "Try to perform as many challenges as you can!"
      ]
    },
    {
      "cell_type": "markdown",
      "metadata": {
        "id": "lV_zlHvoLDT7"
      },
      "source": [
        "## Challenge 1"
      ]
    },
    {
      "cell_type": "markdown",
      "metadata": {
        "id": "YlmkeQfxLVmS"
      },
      "source": [
        "Print the sum of every number between 42 and 123 (inclusive)"
      ]
    },
    {
      "cell_type": "code",
      "execution_count": 1,
      "metadata": {},
      "outputs": [
        {
          "name": "stdout",
          "output_type": "stream",
          "text": [
            "6765\n"
          ]
        }
      ],
      "source": [
        "x=0\n",
        "for n in range(42,124):\n",
        "    x+=n\n",
        "print(x)"
      ]
    },
    {
      "cell_type": "markdown",
      "metadata": {
        "id": "MMnOynjBLPn_"
      },
      "source": [
        "## Challenge 2"
      ]
    },
    {
      "cell_type": "markdown",
      "metadata": {
        "id": "1OpV05VpLYWX"
      },
      "source": [
        "Find the smallest integer $n$ such that $n^3 > 123456789$"
      ]
    },
    {
      "cell_type": "code",
      "execution_count": 2,
      "metadata": {},
      "outputs": [
        {
          "name": "stdout",
          "output_type": "stream",
          "text": [
            "498\n"
          ]
        }
      ],
      "source": [
        "x = 0\n",
        "while x**3 < 123456789:\n",
        "    x+=1\n",
        "\n",
        "print(x)"
      ]
    },
    {
      "cell_type": "markdown",
      "metadata": {
        "id": "VJNcZaHjYC0m"
      },
      "source": [
        "## Challenge 3"
      ]
    },
    {
      "cell_type": "markdown",
      "metadata": {
        "id": "aqdGyU0SYClh"
      },
      "source": [
        "A year is a leap year:\n",
        "* if it's divisible by 4 (2020 was a leap year)\n",
        " * except if it's divisible by 100 (1900 *was not* a leap year)\n",
        "   * except if it's divisible by 400 (2000 *was* a leap year)\n",
        "\n",
        "Ask the user for a year, and display `Leap year!` or `Not a leap year!` depending on the input."
      ]
    },
    {
      "cell_type": "code",
      "execution_count": 3,
      "metadata": {},
      "outputs": [
        {
          "name": "stdout",
          "output_type": "stream",
          "text": [
            "Not a leap year!\n"
          ]
        }
      ],
      "source": [
        "year = int(input())\n",
        "\n",
        "if year%400 ==0 or (year%4 == 0 and year%100 !=0):\n",
        "    print(\"Leap year!\")\n",
        "\n",
        "else:\n",
        "    print(\"Not a leap year!\")\n",
        "\n"
      ]
    },
    {
      "cell_type": "markdown",
      "metadata": {
        "id": "HLfrT1oebpEA"
      },
      "source": [
        "## Challenge 4"
      ]
    },
    {
      "cell_type": "markdown",
      "metadata": {
        "id": "9jZVBB1qbo35"
      },
      "source": [
        "Ask the user for a integer, then display a \"square\" of the given size. For instance, for a size of 10, you should get something like:\n",
        "```\n",
        " ##########\n",
        " #........#\n",
        " #........#\n",
        " #........#\n",
        " #........#\n",
        " #........#\n",
        " #........#\n",
        " #........#\n",
        " #........#\n",
        " ##########\n",
        "```"
      ]
    },
    {
      "cell_type": "code",
      "execution_count": 10,
      "metadata": {},
      "outputs": [
        {
          "name": "stdout",
          "output_type": "stream",
          "text": [
            "##########\n",
            "#........#\n",
            "#........#\n",
            "#........#\n",
            "#........#\n",
            "#........#\n",
            "#........#\n",
            "#........#\n",
            "#........#\n",
            "##########\n"
          ]
        }
      ],
      "source": [
        "user_int = int(input())\n",
        "\n",
        "for line in range(user_int):\n",
        "    for colon in range(user_int):\n",
        "        if (line == 0 or line == user_int-1) or colon == 0 or colon == user_int-1:\n",
        "            print(\"#\", end=\"\")\n",
        "        else:\n",
        "            print(\".\",end=\"\")\n",
        "    print()    \n"
      ]
    },
    {
      "cell_type": "markdown",
      "metadata": {
        "id": "lKwVhI0YWy8P"
      },
      "source": [
        "## Challenge 5"
      ]
    },
    {
      "cell_type": "markdown",
      "metadata": {
        "id": "m0cCo7teW2yP"
      },
      "source": [
        "Print how many numbers between 1 and 1000 (inclusive) have an F in their English name."
      ]
    },
    {
      "cell_type": "code",
      "execution_count": 14,
      "metadata": {},
      "outputs": [
        {
          "name": "stdout",
          "output_type": "stream",
          "text": [
            "488\n",
            "ok\n"
          ]
        }
      ],
      "source": [
        "count = 0\n",
        "\n",
        "for n in range(1,1001):\n",
        "    if \"4\" in str(n) or \"5\" in str(n) :\n",
        "        count+=1\n",
        "print(count)\n"
      ]
    }
  ],
  "metadata": {
    "colab": {
      "provenance": []
    },
    "kernelspec": {
      "display_name": "Python 3",
      "name": "python3"
    },
    "language_info": {
      "codemirror_mode": {
        "name": "ipython",
        "version": 3
      },
      "file_extension": ".py",
      "mimetype": "text/x-python",
      "name": "python",
      "nbconvert_exporter": "python",
      "pygments_lexer": "ipython3",
      "version": "3.11.8"
    }
  },
  "nbformat": 4,
  "nbformat_minor": 0
}
