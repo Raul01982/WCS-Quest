{
 "cells": [
  {
   "cell_type": "code",
   "execution_count": 1,
   "metadata": {},
   "outputs": [
    {
     "name": "stdout",
     "output_type": "stream",
     "text": [
      "la capitale de la France ?\n",
      "Paris\n",
      "c'est bon !\n",
      "la capitale de l'Espagne ?\n",
      "Madrid\n",
      "c'est bon !\n",
      "la capitale de l'Allemange ? \n",
      "Berlin\n",
      "c'est bon !\n"
     ]
    }
   ],
   "source": [
    "question=[\"la capitale de la France ?\", \"la capitale de l'Espagne ?\",\"la capitale de l'Allemange ? \" ]\n",
    "reponse=[\"Paris\",\"Madrid\",\"Berlin\"]\n",
    "nb_reponse = 0\n",
    "\n",
    "\n",
    "for i in range(len(question)):\n",
    "    print(question[i])\n",
    "    while nb_reponse != reponse[i]:\n",
    "        reponse_1 = input(\"donnez une réponse\").capitalize()\n",
    "        nb_reponse += 1\n",
    "        print(reponse_1)\n",
    "        if reponse_1 == reponse[i]:\n",
    "            print(\"c'est bon !\")\n",
    "            nb_reponse=0\n",
    "            break\n",
    "        elif nb_reponse == 3:\n",
    "            print(\"vous avez perdu\")\n",
    "            break\n",
    "        else:\n",
    "            print(\"recommence encore !\")\n",
    "    if nb_reponse == 3:\n",
    "        break\n",
    "\n"
   ]
  }
 ],
 "metadata": {
  "kernelspec": {
   "display_name": "Python 3",
   "language": "python",
   "name": "python3"
  },
  "language_info": {
   "codemirror_mode": {
    "name": "ipython",
    "version": 3
   },
   "file_extension": ".py",
   "mimetype": "text/x-python",
   "name": "python",
   "nbconvert_exporter": "python",
   "pygments_lexer": "ipython3",
   "version": "3.11.8"
  }
 },
 "nbformat": 4,
 "nbformat_minor": 2
}
