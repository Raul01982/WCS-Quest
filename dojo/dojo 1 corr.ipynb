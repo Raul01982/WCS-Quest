{
 "cells": [
  {
   "cell_type": "code",
   "execution_count": 1,
   "metadata": {},
   "outputs": [
    {
     "name": "stdout",
     "output_type": "stream",
     "text": [
      "Ok ! On joue !\n",
      "question : la capitale de la France ? \n",
      "Bravo ! tu as bien repondu !\n",
      "tu as 1 points !\n",
      "question : la capitale de l'Espagne ? \n",
      "Bravo ! tu as bien repondu !\n",
      "tu as 2 points !\n",
      "question : la capitale de l'Allemange ?  \n",
      "Recommence, il te reste 2 essai !\n",
      "Bravo ! tu as bien repondu !\n",
      "tu as 3 points !\n",
      "le jeu est fin !\n"
     ]
    }
   ],
   "source": [
    "#test 1\n",
    "#variable\n",
    "#liste des reponses possibles\n",
    "list_oui_non=[\"o\",\"n\"]\n",
    "# dictionnaire qui contient les questions pour le joueur\n",
    "dict_quest={\n",
    "    \"start\" : \"Bonjour Jack !\\n Veux-tu jouer à notre quiz ? (o : oui / n :non)\",\n",
    "    \"bad_res\" : \"Sois attentif au details Jeck, tu seras Data Analyst !\",\n",
    "    \"re_start\": \"Jeux terminé ! Veux-tu rejouer ?\"\n",
    "\n",
    "}\n",
    "#premiere question pour lancer le jeu ou pas\n",
    "def fn_quiz_res(key_dict_quest):\n",
    "    return(input(dict_quest[key_dict_quest]).lower())\n",
    "\n",
    "play_res=fn_quiz_res(\"start\")\n",
    "\n",
    "#tant que le joueur ne repond pas correctement\n",
    "while play_res not in list_oui_non:\n",
    "    play_res=fn_quiz_res(\"bad_res\")\n",
    "#le joueur ne veut pas jouer\n",
    "if play_res == list_oui_non[1]:\n",
    "    print(\"Looser Jack ! T'es mauvais !\")\n",
    "#jack se decide enfin a jouer\n",
    "if play_res == list_oui_non[0]:\n",
    "    print(\"Ok ! On joue !\")\n",
    "#coder le jeu :\n",
    "    #variable du jeu\n",
    "questionnaire = {\n",
    "    \"Paris\":\"la capitale de la France ?\",\n",
    "    \"Madrid\":\"la capitale de l'Espagne ?\",\n",
    "    \"Berlin\":\"la capitale de l'Allemange ? \"\n",
    "    }\n",
    "nb_point=0\n",
    "\n",
    "for key_question, value_question in questionnaire.items():\n",
    "    #print(f\"question : {value_question} / réponse : {key_question}\")-->c'est un test avant de continuer\n",
    "    print(f\"question : {value_question} \")\n",
    "    nb_essai=2\n",
    "\n",
    "    while nb_essai >= 0:\n",
    "        if input(value_question).capitalize()== key_question:\n",
    "            print(\"Bravo ! tu as bien repondu !\")\n",
    "            nb_point+=1\n",
    "            break\n",
    "        else:\n",
    "            print(f\"Recommence, il te reste {nb_essai} essai !\")\n",
    "            nb_essai-=1\n",
    "    if nb_essai <0 :\n",
    "        print(f\"tu as perdu !, tu as {nb_point} points !\")\n",
    "        break\n",
    "    print(f\"tu as {nb_point} points !\")\n",
    "print(f\"le jeu est fin !\")\n",
    "#demande au joueur s'il veut rejouer\n",
    "play_res=fn_quiz_res(\"re_start\")\n"
   ]
  }
 ],
 "metadata": {
  "kernelspec": {
   "display_name": "Python 3",
   "language": "python",
   "name": "python3"
  },
  "language_info": {
   "codemirror_mode": {
    "name": "ipython",
    "version": 3
   },
   "file_extension": ".py",
   "mimetype": "text/x-python",
   "name": "python",
   "nbconvert_exporter": "python",
   "pygments_lexer": "ipython3",
   "version": "3.11.8"
  }
 },
 "nbformat": 4,
 "nbformat_minor": 2
}
