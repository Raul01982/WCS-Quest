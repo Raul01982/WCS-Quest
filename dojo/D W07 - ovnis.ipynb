{
  "cells": [
    {
      "cell_type": "markdown",
      "metadata": {
        "id": "WbOISbDEuBLR"
      },
      "source": [
        "# W7 DOJO"
      ]
    },
    {
      "cell_type": "markdown",
      "metadata": {
        "id": "y8S03Cgj8rEE"
      },
      "source": [
        "# Dojo Pandas 2  (OVNIS)\n",
        "\n",
        "\n",
        "importez le dataframe suivant :\n",
        "http://bit.ly/uforeports\n",
        "\n",
        "1) Quelle est la forme la plus représentée ?\n",
        "\n",
        "2) Quelle est la ville où l’on a le plus de rapports de forme « FIREBALL » ?\n",
        "\n",
        "3) Quel est le pourcentage de rapports où la couleur est présente ?\n",
        "remplacez les valeurs de couleurs manquantes par « NONE »\n",
        "\n",
        "4) Quelle est la décennie où l’on a recensé le plus de cas d’ovnis ?\n",
        "\n",
        "5) Affichez le top 10 des villes où l’on voit le plus d’OVNIS en excluant New York\n",
        "\n",
        "6) Afficher un dataframe de ces 10 villes avec les décennies, où les valeurs seront le nombre d'ovnis par combinaison"
      ]
    },
    {
      "cell_type": "code",
      "execution_count": 15,
      "metadata": {
        "colab": {
          "base_uri": "https://localhost:8080/",
          "height": 206
        },
        "id": "boSqVgtnCGnt",
        "outputId": "81b0fbd3-116a-4de5-ea76-22bc250656de"
      },
      "outputs": [
        {
          "data": {
            "text/html": [
              "<div>\n",
              "<style scoped>\n",
              "    .dataframe tbody tr th:only-of-type {\n",
              "        vertical-align: middle;\n",
              "    }\n",
              "\n",
              "    .dataframe tbody tr th {\n",
              "        vertical-align: top;\n",
              "    }\n",
              "\n",
              "    .dataframe thead th {\n",
              "        text-align: right;\n",
              "    }\n",
              "</style>\n",
              "<table border=\"1\" class=\"dataframe\">\n",
              "  <thead>\n",
              "    <tr style=\"text-align: right;\">\n",
              "      <th></th>\n",
              "      <th>City</th>\n",
              "      <th>Colors Reported</th>\n",
              "      <th>Shape Reported</th>\n",
              "      <th>State</th>\n",
              "      <th>Time</th>\n",
              "    </tr>\n",
              "  </thead>\n",
              "  <tbody>\n",
              "    <tr>\n",
              "      <th>0</th>\n",
              "      <td>Ithaca</td>\n",
              "      <td>NaN</td>\n",
              "      <td>TRIANGLE</td>\n",
              "      <td>NY</td>\n",
              "      <td>6/1/1930 22:00</td>\n",
              "    </tr>\n",
              "    <tr>\n",
              "      <th>1</th>\n",
              "      <td>Willingboro</td>\n",
              "      <td>NaN</td>\n",
              "      <td>OTHER</td>\n",
              "      <td>NJ</td>\n",
              "      <td>6/30/1930 20:00</td>\n",
              "    </tr>\n",
              "    <tr>\n",
              "      <th>2</th>\n",
              "      <td>Holyoke</td>\n",
              "      <td>NaN</td>\n",
              "      <td>OVAL</td>\n",
              "      <td>CO</td>\n",
              "      <td>2/15/1931 14:00</td>\n",
              "    </tr>\n",
              "    <tr>\n",
              "      <th>3</th>\n",
              "      <td>Abilene</td>\n",
              "      <td>NaN</td>\n",
              "      <td>DISK</td>\n",
              "      <td>KS</td>\n",
              "      <td>6/1/1931 13:00</td>\n",
              "    </tr>\n",
              "    <tr>\n",
              "      <th>4</th>\n",
              "      <td>New York Worlds Fair</td>\n",
              "      <td>NaN</td>\n",
              "      <td>LIGHT</td>\n",
              "      <td>NY</td>\n",
              "      <td>4/18/1933 19:00</td>\n",
              "    </tr>\n",
              "  </tbody>\n",
              "</table>\n",
              "</div>"
            ],
            "text/plain": [
              "                   City Colors Reported Shape Reported State             Time\n",
              "0                Ithaca             NaN       TRIANGLE    NY   6/1/1930 22:00\n",
              "1           Willingboro             NaN          OTHER    NJ  6/30/1930 20:00\n",
              "2               Holyoke             NaN           OVAL    CO  2/15/1931 14:00\n",
              "3               Abilene             NaN           DISK    KS   6/1/1931 13:00\n",
              "4  New York Worlds Fair             NaN          LIGHT    NY  4/18/1933 19:00"
            ]
          },
          "execution_count": 15,
          "metadata": {},
          "output_type": "execute_result"
        }
      ],
      "source": [
        "import pandas as pd\n",
        "link = 'http://bit.ly/uforeports'\n",
        "df_ovni = pd.read_csv(link)\n",
        "df_ovni.head()"
      ]
    },
    {
      "cell_type": "code",
      "execution_count": 16,
      "metadata": {
        "colab": {
          "base_uri": "https://localhost:8080/"
        },
        "id": "JhDOXf7ODalo",
        "outputId": "bfda4e7c-becf-41a8-8320-fbb74274b20d"
      },
      "outputs": [
        {
          "data": {
            "text/plain": [
              "'LIGHT'"
            ]
          },
          "execution_count": 16,
          "metadata": {},
          "output_type": "execute_result"
        }
      ],
      "source": [
        "### 1) Quelle est la forme la plus représentée?\n",
        "df_ovni['Shape Reported'].value_counts().idxmax()"
      ]
    },
    {
      "cell_type": "code",
      "execution_count": 17,
      "metadata": {
        "colab": {
          "base_uri": "https://localhost:8080/"
        },
        "id": "IFOMstB0DajI",
        "outputId": "9addc5e6-37bc-4cae-83c1-ff20a95ca855"
      },
      "outputs": [
        {
          "data": {
            "text/plain": [
              "'Seattle'"
            ]
          },
          "execution_count": 17,
          "metadata": {},
          "output_type": "execute_result"
        }
      ],
      "source": [
        "### 2) Quelle est la ville où l’on a le plus de rapports de forme « FIREBALL » ?\n",
        "df_ovni['City'][df_ovni['Shape Reported']== 'FIREBALL'].value_counts().idxmax()"
      ]
    },
    {
      "cell_type": "code",
      "execution_count": 18,
      "metadata": {
        "colab": {
          "base_uri": "https://localhost:8080/",
          "height": 224
        },
        "id": "mRUjwHLWDagQ",
        "outputId": "b7525554-c5f8-41d7-8ff5-195fdd0dc6a9"
      },
      "outputs": [
        {
          "data": {
            "text/plain": [
              "15.8"
            ]
          },
          "execution_count": 18,
          "metadata": {},
          "output_type": "execute_result"
        }
      ],
      "source": [
        "### 3) Quel est le pourcentage de rapports où la couleur est présente ? remplacez les valeurs de couleurs manquantes par « NONE »\n",
        "round((df_ovni.shape[0] - df_ovni['Colors Reported'].isna().sum()) / df_ovni.shape[0] * 100,2)"
      ]
    },
    {
      "cell_type": "code",
      "execution_count": 19,
      "metadata": {},
      "outputs": [
        {
          "data": {
            "text/plain": [
              "15.8"
            ]
          },
          "execution_count": 19,
          "metadata": {},
          "output_type": "execute_result"
        }
      ],
      "source": [
        "round((df_ovni['Colors Reported'].notna().sum()) / (df_ovni.shape[0]) * 100,2)"
      ]
    },
    {
      "cell_type": "code",
      "execution_count": 20,
      "metadata": {},
      "outputs": [
        {
          "name": "stderr",
          "output_type": "stream",
          "text": [
            "C:\\Users\\aurel\\AppData\\Local\\Temp\\ipykernel_38112\\1480236335.py:1: FutureWarning: A value is trying to be set on a copy of a DataFrame or Series through chained assignment using an inplace method.\n",
            "The behavior will change in pandas 3.0. This inplace method will never work because the intermediate object on which we are setting values always behaves as a copy.\n",
            "\n",
            "For example, when doing 'df[col].method(value, inplace=True)', try using 'df.method({col: value}, inplace=True)' or df[col] = df[col].method(value) instead, to perform the operation inplace on the original object.\n",
            "\n",
            "\n",
            "  df_ovni['Colors Reported'].fillna('NONE', inplace=True)\n"
          ]
        },
        {
          "data": {
            "text/html": [
              "<div>\n",
              "<style scoped>\n",
              "    .dataframe tbody tr th:only-of-type {\n",
              "        vertical-align: middle;\n",
              "    }\n",
              "\n",
              "    .dataframe tbody tr th {\n",
              "        vertical-align: top;\n",
              "    }\n",
              "\n",
              "    .dataframe thead th {\n",
              "        text-align: right;\n",
              "    }\n",
              "</style>\n",
              "<table border=\"1\" class=\"dataframe\">\n",
              "  <thead>\n",
              "    <tr style=\"text-align: right;\">\n",
              "      <th></th>\n",
              "      <th>City</th>\n",
              "      <th>Colors Reported</th>\n",
              "      <th>Shape Reported</th>\n",
              "      <th>State</th>\n",
              "      <th>Time</th>\n",
              "    </tr>\n",
              "  </thead>\n",
              "  <tbody>\n",
              "    <tr>\n",
              "      <th>0</th>\n",
              "      <td>Ithaca</td>\n",
              "      <td>NONE</td>\n",
              "      <td>TRIANGLE</td>\n",
              "      <td>NY</td>\n",
              "      <td>6/1/1930 22:00</td>\n",
              "    </tr>\n",
              "    <tr>\n",
              "      <th>1</th>\n",
              "      <td>Willingboro</td>\n",
              "      <td>NONE</td>\n",
              "      <td>OTHER</td>\n",
              "      <td>NJ</td>\n",
              "      <td>6/30/1930 20:00</td>\n",
              "    </tr>\n",
              "    <tr>\n",
              "      <th>2</th>\n",
              "      <td>Holyoke</td>\n",
              "      <td>NONE</td>\n",
              "      <td>OVAL</td>\n",
              "      <td>CO</td>\n",
              "      <td>2/15/1931 14:00</td>\n",
              "    </tr>\n",
              "    <tr>\n",
              "      <th>3</th>\n",
              "      <td>Abilene</td>\n",
              "      <td>NONE</td>\n",
              "      <td>DISK</td>\n",
              "      <td>KS</td>\n",
              "      <td>6/1/1931 13:00</td>\n",
              "    </tr>\n",
              "    <tr>\n",
              "      <th>4</th>\n",
              "      <td>New York Worlds Fair</td>\n",
              "      <td>NONE</td>\n",
              "      <td>LIGHT</td>\n",
              "      <td>NY</td>\n",
              "      <td>4/18/1933 19:00</td>\n",
              "    </tr>\n",
              "    <tr>\n",
              "      <th>...</th>\n",
              "      <td>...</td>\n",
              "      <td>...</td>\n",
              "      <td>...</td>\n",
              "      <td>...</td>\n",
              "      <td>...</td>\n",
              "    </tr>\n",
              "    <tr>\n",
              "      <th>18236</th>\n",
              "      <td>Grant Park</td>\n",
              "      <td>NONE</td>\n",
              "      <td>TRIANGLE</td>\n",
              "      <td>IL</td>\n",
              "      <td>12/31/2000 23:00</td>\n",
              "    </tr>\n",
              "    <tr>\n",
              "      <th>18237</th>\n",
              "      <td>Spirit Lake</td>\n",
              "      <td>NONE</td>\n",
              "      <td>DISK</td>\n",
              "      <td>IA</td>\n",
              "      <td>12/31/2000 23:00</td>\n",
              "    </tr>\n",
              "    <tr>\n",
              "      <th>18238</th>\n",
              "      <td>Eagle River</td>\n",
              "      <td>NONE</td>\n",
              "      <td>NaN</td>\n",
              "      <td>WI</td>\n",
              "      <td>12/31/2000 23:45</td>\n",
              "    </tr>\n",
              "    <tr>\n",
              "      <th>18239</th>\n",
              "      <td>Eagle River</td>\n",
              "      <td>RED</td>\n",
              "      <td>LIGHT</td>\n",
              "      <td>WI</td>\n",
              "      <td>12/31/2000 23:45</td>\n",
              "    </tr>\n",
              "    <tr>\n",
              "      <th>18240</th>\n",
              "      <td>Ybor</td>\n",
              "      <td>NONE</td>\n",
              "      <td>OVAL</td>\n",
              "      <td>FL</td>\n",
              "      <td>12/31/2000 23:59</td>\n",
              "    </tr>\n",
              "  </tbody>\n",
              "</table>\n",
              "<p>18241 rows × 5 columns</p>\n",
              "</div>"
            ],
            "text/plain": [
              "                       City Colors Reported Shape Reported State  \\\n",
              "0                    Ithaca            NONE       TRIANGLE    NY   \n",
              "1               Willingboro            NONE          OTHER    NJ   \n",
              "2                   Holyoke            NONE           OVAL    CO   \n",
              "3                   Abilene            NONE           DISK    KS   \n",
              "4      New York Worlds Fair            NONE          LIGHT    NY   \n",
              "...                     ...             ...            ...   ...   \n",
              "18236            Grant Park            NONE       TRIANGLE    IL   \n",
              "18237           Spirit Lake            NONE           DISK    IA   \n",
              "18238           Eagle River            NONE            NaN    WI   \n",
              "18239           Eagle River             RED          LIGHT    WI   \n",
              "18240                  Ybor            NONE           OVAL    FL   \n",
              "\n",
              "                   Time  \n",
              "0        6/1/1930 22:00  \n",
              "1       6/30/1930 20:00  \n",
              "2       2/15/1931 14:00  \n",
              "3        6/1/1931 13:00  \n",
              "4       4/18/1933 19:00  \n",
              "...                 ...  \n",
              "18236  12/31/2000 23:00  \n",
              "18237  12/31/2000 23:00  \n",
              "18238  12/31/2000 23:45  \n",
              "18239  12/31/2000 23:45  \n",
              "18240  12/31/2000 23:59  \n",
              "\n",
              "[18241 rows x 5 columns]"
            ]
          },
          "execution_count": 20,
          "metadata": {},
          "output_type": "execute_result"
        }
      ],
      "source": [
        "df_ovni['Colors Reported'].fillna('NONE', inplace=True)\n",
        "df_ovni"
      ]
    },
    {
      "cell_type": "code",
      "execution_count": 21,
      "metadata": {
        "colab": {
          "base_uri": "https://localhost:8080/"
        },
        "id": "jDPyrxCjDaZm",
        "outputId": "7cce1793-a499-495c-813a-db25e44881e2"
      },
      "outputs": [
        {
          "data": {
            "text/plain": [
              "'193'"
            ]
          },
          "execution_count": 21,
          "metadata": {},
          "output_type": "execute_result"
        }
      ],
      "source": [
        "### 4) Quelle est la décennie où l’on a recensé le plus de cas d’ovnis ?\n",
        "# exemple :\n",
        "df_ovni['Time'][0].split('/')[2][:3]"
      ]
    },
    {
      "cell_type": "code",
      "execution_count": 22,
      "metadata": {},
      "outputs": [
        {
          "data": {
            "text/plain": [
              "'199'"
            ]
          },
          "execution_count": 22,
          "metadata": {},
          "output_type": "execute_result"
        }
      ],
      "source": [
        "df_ovni['decade'] = df_ovni['Time'].apply(lambda x : x.split('/')[2][:3])\n",
        "df_ovni['decade'].value_counts().idxmax()"
      ]
    },
    {
      "cell_type": "code",
      "execution_count": 23,
      "metadata": {
        "colab": {
          "base_uri": "https://localhost:8080/"
        },
        "id": "V6_zwhx5JfJ4",
        "outputId": "f1ca51e7-00d4-49f7-d8ae-a5fdd2a7e2e8"
      },
      "outputs": [
        {
          "data": {
            "text/plain": [
              "City\n",
              "Seattle        187\n",
              "Phoenix        137\n",
              "Houston        108\n",
              "Las Vegas      105\n",
              "Portland       102\n",
              "San Diego      101\n",
              "Los Angeles     98\n",
              "Chicago         73\n",
              "Austin          62\n",
              "Miami           60\n",
              "Name: count, dtype: int64"
            ]
          },
          "execution_count": 23,
          "metadata": {},
          "output_type": "execute_result"
        }
      ],
      "source": [
        "### 5) Affichez le top 10 des villes où l’on voit le plus d’OVNIS en excluant New York\n",
        "#df_ovni['City'].fillna('NONE', inplace=True)\n",
        "df_ovni['City'][~df_ovni['City'].str.contains('New York', na=False)].value_counts().head(10)\n"
      ]
    },
    {
      "cell_type": "code",
      "execution_count": 24,
      "metadata": {
        "colab": {
          "base_uri": "https://localhost:8080/",
          "height": 446
        },
        "id": "fVj53q63JfHu",
        "outputId": "945b0bcf-2807-4af3-fb25-285491de8cca"
      },
      "outputs": [],
      "source": [
        "### 6) Afficher un dataframe de ces 10 villes avec les décennies, où les valeurs seront le nombre d'ovnis par combinaison\n"
      ]
    }
  ],
  "metadata": {
    "colab": {
      "provenance": []
    },
    "kernelspec": {
      "display_name": "Python 3",
      "name": "python3"
    },
    "language_info": {
      "codemirror_mode": {
        "name": "ipython",
        "version": 3
      },
      "file_extension": ".py",
      "mimetype": "text/x-python",
      "name": "python",
      "nbconvert_exporter": "python",
      "pygments_lexer": "ipython3",
      "version": "3.11.8"
    }
  },
  "nbformat": 4,
  "nbformat_minor": 0
}
