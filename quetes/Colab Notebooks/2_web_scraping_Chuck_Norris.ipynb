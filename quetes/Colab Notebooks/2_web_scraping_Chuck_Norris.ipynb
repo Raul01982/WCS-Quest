{
 "cells": [
  {
   "cell_type": "code",
   "execution_count": 2,
   "metadata": {},
   "outputs": [],
   "source": [
    "import requests\n",
    "from bs4 import BeautifulSoup\n",
    "import pandas as pd \n"
   ]
  },
  {
   "cell_type": "code",
   "execution_count": 3,
   "metadata": {},
   "outputs": [],
   "source": [
    "blagues_Chuck_Norris = []\n",
    "def scraper_page(url):\n",
    "    \n",
    "    navigator = 'Mozilla/5.0 (Macintosh; Intel Mac OS X 10_10_1)'\n",
    "    response = requests.get(url,headers={'User-Agent': navigator},verify=False)\n",
    "\n",
    "    soup = BeautifulSoup(response.text, 'html.parser')\n",
    "    cards = soup.findAll(\"div\",{\"class\":\"card\"})\n",
    "\n",
    "    for c in cards:\n",
    "        news_c = {}\n",
    "        news_c['Blague'] = c.p.text\n",
    "        news_c['Note'] = c.span.text\n",
    "        blagues_Chuck_Norris.append(news_c)\n",
    "    \n",
    "    return blagues_Chuck_Norris \n",
    "    \n",
    "    \n"
   ]
  },
  {
   "cell_type": "code",
   "execution_count": 4,
   "metadata": {},
   "outputs": [],
   "source": [
    "def scraper_pages(urls):\n",
    "    for url in urls:\n",
    "        scraper_page(url)"
   ]
  },
  {
   "cell_type": "code",
   "execution_count": 5,
   "metadata": {},
   "outputs": [],
   "source": [
    "urls_to_scrape = [\n",
    "    \"https://www.chucknorrisfacts.fr/facts/top/1\",\n",
    "    \"https://www.chucknorrisfacts.fr/facts/top/2\",\n",
    "    \"https://www.chucknorrisfacts.fr/facts/top/3\",\n",
    "    \"https://www.chucknorrisfacts.fr/facts/top/4\",\n",
    "    \"https://www.chucknorrisfacts.fr/facts/top/5\"\n",
    "]"
   ]
  },
  {
   "cell_type": "code",
   "execution_count": 6,
   "metadata": {},
   "outputs": [
    {
     "name": "stderr",
     "output_type": "stream",
     "text": [
      "C:\\Users\\aurel\\AppData\\Roaming\\Python\\Python311\\site-packages\\urllib3\\connectionpool.py:1103: InsecureRequestWarning: Unverified HTTPS request is being made to host 'www.chucknorrisfacts.fr'. Adding certificate verification is strongly advised. See: https://urllib3.readthedocs.io/en/latest/advanced-usage.html#tls-warnings\n",
      "  warnings.warn(\n",
      "C:\\Users\\aurel\\AppData\\Roaming\\Python\\Python311\\site-packages\\urllib3\\connectionpool.py:1103: InsecureRequestWarning: Unverified HTTPS request is being made to host 'www.chucknorrisfacts.fr'. Adding certificate verification is strongly advised. See: https://urllib3.readthedocs.io/en/latest/advanced-usage.html#tls-warnings\n",
      "  warnings.warn(\n",
      "C:\\Users\\aurel\\AppData\\Roaming\\Python\\Python311\\site-packages\\urllib3\\connectionpool.py:1103: InsecureRequestWarning: Unverified HTTPS request is being made to host 'www.chucknorrisfacts.fr'. Adding certificate verification is strongly advised. See: https://urllib3.readthedocs.io/en/latest/advanced-usage.html#tls-warnings\n",
      "  warnings.warn(\n",
      "C:\\Users\\aurel\\AppData\\Roaming\\Python\\Python311\\site-packages\\urllib3\\connectionpool.py:1103: InsecureRequestWarning: Unverified HTTPS request is being made to host 'www.chucknorrisfacts.fr'. Adding certificate verification is strongly advised. See: https://urllib3.readthedocs.io/en/latest/advanced-usage.html#tls-warnings\n",
      "  warnings.warn(\n",
      "C:\\Users\\aurel\\AppData\\Roaming\\Python\\Python311\\site-packages\\urllib3\\connectionpool.py:1103: InsecureRequestWarning: Unverified HTTPS request is being made to host 'www.chucknorrisfacts.fr'. Adding certificate verification is strongly advised. See: https://urllib3.readthedocs.io/en/latest/advanced-usage.html#tls-warnings\n",
      "  warnings.warn(\n"
     ]
    }
   ],
   "source": [
    "\n",
    "scraper_pages(urls_to_scrape)"
   ]
  },
  {
   "cell_type": "code",
   "execution_count": 7,
   "metadata": {},
   "outputs": [
    {
     "data": {
      "text/plain": [
       "[{'Blague': \"Les ennemis des amis de Chuck Norris sont ses amis. Et oui! Les ennemis de Chuck Norris n'existent plus.\",\n",
       "  'Note': '(8.87/10)'},\n",
       " {'Blague': \"L'avenir se demande parfois ce que Chuck Norris lui réserve.\",\n",
       "  'Note': '(8.43/10)'},\n",
       " {'Blague': \"Un jour Chuck Norris a eu un zero en latin, depuis c'est une langue morte.\",\n",
       "  'Note': '(8.43/10)'},\n",
       " {'Blague': 'Chuck Norris ne sait pas à quoi ressemble Nicolas Sarkozy,  en effet Chuck Norris ne baisse jamais les yeux.',\n",
       "  'Note': '(8.41/10)'},\n",
       " {'Blague': '', 'Note': '(8.37/10)'},\n",
       " {'Blague': \"Chuck Norris n'a pas de père. On ne nique pas la mère de Chuck Norris.\",\n",
       "  'Note': '(8.34/10)'},\n",
       " {'Blague': \"Chuck Norris ne ment pas, c'est la vérité qui se trompe.\",\n",
       "  'Note': '(8.33/10)'},\n",
       " {'Blague': 'Les samouraïs tuent des mouches avec leurs sabres...Chuck Norris, lui, tue des samouraïs avec des mouches',\n",
       "  'Note': '(8.32/10)'},\n",
       " {'Blague': \"Cherchez l'intrus : Un rouge-gorge, un pigeon, un moineau et Chuck Norris.Réponse : Un rouge-gorge, un pigeon et un moineau.\",\n",
       "  'Note': '(8.31/10)'},\n",
       " {'Blague': \"Les ennemis de Chuck Norris lui disent souvent d'aller au diable. Le Diable aimerait bien qu'ils arrêtent.\",\n",
       "  'Note': '(8.31/10)'},\n",
       " {'Blague': 'Chuck Norris peut ressusciter un angle mort.',\n",
       "  'Note': '(8.30/10)'},\n",
       " {'Blague': 'Chuck Norris est le seul homme à posséder une bible dédicacée.',\n",
       "  'Note': '(8.29/10)'},\n",
       " {'Blague': \"Chuck Norris n'est pas égal à lui-même, il est meilleur.\",\n",
       "  'Note': '(8.29/10)'},\n",
       " {'Blague': 'Chuck Norris ne se masturbe jamais. Chuck Norris est inébranlable.',\n",
       "  'Note': '(8.29/10)'},\n",
       " {'Blague': 'Un jour, les PowerRangers ont rencontré Chuck Norris. Maintenant on les appelle les Télétubbies.',\n",
       "  'Note': '(8.29/10)'},\n",
       " {'Blague': 'Quand Chuck Norris lance une pièce, elle fait toujours pile: personne ne fait face à Chuck Norris!',\n",
       "  'Note': '(8.28/10)'},\n",
       " {'Blague': 'Chuck Norris peut se souvenir du futur.', 'Note': '(8.28/10)'},\n",
       " {'Blague': 'Hercule est un demi-dieu, Dieu est un demi-Chuck Norris',\n",
       "  'Note': '(8.27/10)'},\n",
       " {'Blague': \"Un jour, Chuck Norris a courru si vite qu'il a failli se rentrer dedans.\",\n",
       "  'Note': '(8.26/10)'},\n",
       " {'Blague': \"Chuck Norris peut faire rentrer 3 litres d'eau dans une bouteille d'un litre. En tassant bien.\",\n",
       "  'Note': '(8.25/10)'},\n",
       " {'Blague': \"Un jour, un gaulois a cru qu'il pouvait attaquer Chuck Norris après avoir bu de la potion magiqueIl s'appelait Paraplégix\",\n",
       "  'Note': '(8.25/10)'},\n",
       " {'Blague': 'Moïse a coupé la mer en deux. Chuck Norris l\\'a recollé en disant \"tu refais ça, je te pète la gueule\".',\n",
       "  'Note': '(8.25/10)'},\n",
       " {'Blague': 'Chuck Norris a gagné un tournoi de poker avec des cartes pokémon',\n",
       "  'Note': '(8.25/10)'},\n",
       " {'Blague': \"Chuck Norris a déjà compté jusqu'à l'infini. Deux fois.\",\n",
       "  'Note': '(8.25/10)'},\n",
       " {'Blague': 'Un jour un mec a refuser de filer une clope à Chuck Norris. Depuis, on prévient sur tous les paquets que \"Fumer tue\".',\n",
       "  'Note': '(8.25/10)'},\n",
       " {'Blague': 'Certains disent : \"La violence ne résout rien\"Chuck Norris leur répond \"C\\'est que t\\'as pas tapé assez fort\"',\n",
       "  'Note': '(8.25/10)'},\n",
       " {'Blague': 'Quand Chuck Norris viole la loi, elle en redemande.',\n",
       "  'Note': '(8.24/10)'},\n",
       " {'Blague': \"Une seule Tortue Ninja à osé défié Chuck Norris. Maintenant on l'appelle Franklin.\",\n",
       "  'Note': '(8.24/10)'},\n",
       " {'Blague': 'Chuck Norris a planté son ordinateur. Et il a fleuri.',\n",
       "  'Note': '(8.23/10)'},\n",
       " {'Blague': 'Chuck Norris a retrouvé Ornicar.', 'Note': '(8.23/10)'},\n",
       " {'Blague': \"Chuck Norris a déjà eu Alzheimer. Il s'en souvient très bien.\",\n",
       "  'Note': '(8.23/10)'},\n",
       " {'Blague': 'Chuck Norris peut y aller par 4 chemins', 'Note': '(8.23/10)'},\n",
       " {'Blague': \"Chuck Norris a déja frôlé la mort....elle ne s'en est jamais remise.\",\n",
       "  'Note': '(8.23/10)'},\n",
       " {'Blague': 'Chuck Norris joue au cerf-volant avec de vrais cerfs.',\n",
       "  'Note': '(8.23/10)'},\n",
       " {'Blague': \"Un jour Chuck Norris a lu le dictionnaire. Il a compris l'histoire.\",\n",
       "  'Note': '(8.23/10)'},\n",
       " {'Blague': \"Il n'y avait pas 12 mais 13 travaux d'Hercule. Le 13ème étant de mettre une baffe à Chuck Norris. Depuis, le 13 porte malheur.\",\n",
       "  'Note': '(8.23/10)'},\n",
       " {'Blague': 'Selon certaines sources, il y aurait un spermatozoïde de Chuck Norris dans un lac écossais...',\n",
       "  'Note': '(8.23/10)'},\n",
       " {'Blague': 'Si Chuck Norris avait joué dans \"il faut sauver le soldat Ryan\", le film se serait appelé \"il faut sauver l\\'armée allemande\".',\n",
       "  'Note': '(8.23/10)'},\n",
       " {'Blague': \"Le fusil a pompe de Chuck Norris est en prison pour port d'arme illégal.\",\n",
       "  'Note': '(8.23/10)'},\n",
       " {'Blague': 'Il y a bien longtemps Chuck Norris et Dieu se sont battus. Vous avez vu Dieu récemment ?',\n",
       "  'Note': '(8.23/10)'},\n",
       " {'Blague': 'Chuck Norris a fait loucher un cyclope.', 'Note': '(8.23/10)'},\n",
       " {'Blague': \"Chuck Norris a déjà bu toute l'eau du robinet.\",\n",
       "  'Note': '(8.23/10)'},\n",
       " {'Blague': \"Même l'évidence se rend à Chuck Norris.\", 'Note': '(8.23/10)'},\n",
       " {'Blague': \"Chuck Norris peut te prouver que la condamnation à mort n'est pas la peine maximale.\",\n",
       "  'Note': '(8.22/10)'},\n",
       " {'Blague': 'Chuck Norris a invité Albert Einstein à son dîner de cons.',\n",
       "  'Note': '(8.22/10)'},\n",
       " {'Blague': 'Lorsque Chuck Norris va au cinema et que son portable sonne, on met sur pause.',\n",
       "  'Note': '(8.22/10)'},\n",
       " {'Blague': 'Si Chuck Norris beurre une tartine des deux côté elle retombera sur la tranche.',\n",
       "  'Note': '(8.22/10)'},\n",
       " {'Blague': 'Chuck Norris a déjà battu la montre dans une course contre la montre.',\n",
       "  'Note': '(8.22/10)'},\n",
       " {'Blague': \"Wall Street n'est que la 3ème bourse au monde, il y a d'abord les deux de Chuck Norris.\",\n",
       "  'Note': '(8.22/10)'},\n",
       " {'Blague': \"Si Mickey a quatre doigts, c'est parce qu'il a fait un doigt d'honneur à Chuck Norris.\",\n",
       "  'Note': '(8.22/10)'},\n",
       " {'Blague': \"A l'école Chuck Norris ne faisait pas une sarbacane avec ses vieux stylos, il faisait un 357 magnum\",\n",
       "  'Note': '(8.22/10)'},\n",
       " {'Blague': 'Contrairement à ce que croient ceux qui se lèvent tôt, le monde appartient à Chuck Norris.',\n",
       "  'Note': '(8.22/10)'},\n",
       " {'Blague': 'Hercule est un demi Dieu et Dieu est un demi Chuck Norris.',\n",
       "  'Note': '(8.22/10)'},\n",
       " {'Blague': 'Archimède a dit: \"Donnez moi un point d\\'appui, un levier, et je vous soulèverai le monde!\".Chuck Norris a dit: \"Donnez moi 30 secondes!\".',\n",
       "  'Note': '(8.22/10)'},\n",
       " {'Blague': \"Chuck Norris n'a pas reçu son diplôme du bac. Les correcteurs comptent encore les points.\",\n",
       "  'Note': '(8.22/10)'},\n",
       " {'Blague': \"Chuck Norris a battu le record de saut à la perche, sans prendre d'élan. Et sans perche. Et sans sauter.\",\n",
       "  'Note': '(8.22/10)'},\n",
       " {'Blague': \"Un jour, Chuck Norris a parié qu'il pouvait sodomiser un ours. Il a gagné son pari. Neuf mois plus tard naissait Sébastien Chabal.\",\n",
       "  'Note': '(8.22/10)'},\n",
       " {'Blague': \"Quand Chuck Norris fait le Tour de France, il passe par les DOM TOM sinon c'est trop facile.\",\n",
       "  'Note': '(8.22/10)'},\n",
       " {'Blague': 'Chuck Norris a accroché Magneto des X-men sur son frigo.',\n",
       "  'Note': '(8.22/10)'},\n",
       " {'Blague': \"Les seuls qui ont osé défier Chuck Norris sont: les dinosaures, le gouvernement de l'Atlantide et Charlie.Résultat: tous ont disparu, mais on cherche encore Charlie !\",\n",
       "  'Note': '(8.22/10)'},\n",
       " {'Blague': 'Quand Chuck Norris joue à Resident Evil, ce sont les zombies qui doivent survivre...',\n",
       "  'Note': '(8.22/10)'},\n",
       " {'Blague': 'Si le Titanic a coulé, c\\'est parce que Chuck Norris avait entendu un blondinet crier \"Je suis le maître du monde!\".',\n",
       "  'Note': '(8.22/10)'},\n",
       " {'Blague': 'Chuck Norris sait qui est le méchant dans Tetris.',\n",
       "  'Note': '(8.22/10)'},\n",
       " {'Blague': 'Comme la foudre, Chuck Norris ne frappe jamais deux fois au même endroit. Pas besoin.',\n",
       "  'Note': '(8.22/10)'},\n",
       " {'Blague': \"Chuck Norris connait la dernière décimale de Pi, et celle d'après aussi.\",\n",
       "  'Note': '(8.22/10)'},\n",
       " {'Blague': \"Avec un concombre, une boîte de thon et de l'huile d'olive, Chuck Norris fait de très bons brownies au chocolat.\",\n",
       "  'Note': '(8.22/10)'},\n",
       " {'Blague': 'Quand Chuck Norris fait du ski tout nu, il laisse 3 traces dans la neige.',\n",
       "  'Note': '(8.22/10)'},\n",
       " {'Blague': 'Chuck Norris peut dire Schweppes en verlan.',\n",
       "  'Note': '(8.22/10)'},\n",
       " {'Blague': 'Chuck Norris a une vision très nette du flou.',\n",
       "  'Note': '(8.22/10)'},\n",
       " {'Blague': \"A son mariage, Chuck Norris avait Oncle Ben's en personne pour lui jeter du riz.\",\n",
       "  'Note': '(8.22/10)'},\n",
       " {'Blague': 'A Halloween les enfants qui se déguisent en Chuck Norris et qui demandent des bonbons chez les voisins repartent avec les bonbons, la carte de crédit, les clefs de la voiture et la femme du voisin.',\n",
       "  'Note': '(8.22/10)'},\n",
       " {'Blague': 'Chuck Norris x 0 = Chuck Norris. On élimine pas Chuck Norris aussi facilement.',\n",
       "  'Note': '(8.22/10)'},\n",
       " {'Blague': 'Un jour, Chuck Norris a pété un câble. Ainsi est né le wi-fi.',\n",
       "  'Note': '(8.22/10)'},\n",
       " {'Blague': \"Quand Chuck Norris ne répond pas correctement à une énigme du Père Fouras, c'est le Père Fouras qui plonge pour chercher la clef.\",\n",
       "  'Note': '(8.22/10)'},\n",
       " {'Blague': \"Quand Chuck Norris s'est mis aux arts martiaux, les Japonais se sont reconvertis dans les jeux videos.\",\n",
       "  'Note': '(8.22/10)'},\n",
       " {'Blague': \"Quand Chuck Norris lui dit qu'il est gros, Obélix ferme sa gueule.\",\n",
       "  'Note': '(8.22/10)'},\n",
       " {'Blague': 'Chuck Norris a réalisé un film avec Paint', 'Note': '(8.22/10)'},\n",
       " {'Blague': \"Pi est égale a 3,14...Pas par coïncidence, seulement parce que la 3eme lettre de l'alphabet est C et la 14eme est N...Pi=CN=Chuck Norris\",\n",
       "  'Note': '(8.22/10)'},\n",
       " {'Blague': \"C'est Chuck Norris qui a décidé que toute phrase se terminait par un poing.\",\n",
       "  'Note': '(8.22/10)'},\n",
       " {'Blague': \"Chuck Norris ne dépose pas d'argent à la banque. Chuck Norris n'épargne rien, ni personne.\",\n",
       "  'Note': '(8.22/10)'},\n",
       " {'Blague': \"Chuck Norris ne dépose pas d'argent à la banque. Chuck Norris n'épargne rien, ni personne.\",\n",
       "  'Note': '(8.22/10)'},\n",
       " {'Blague': \"Quand Chuck Norris va aux toilettes, il y a toujours du papier. Chuck Norris n'est jamais au bout du rouleau.\",\n",
       "  'Note': '(8.22/10)'},\n",
       " {'Blague': \"Si la douleur n'est qu'une information pour le Terminator, elle n'est qu'une rumeur sans fondement pour Chuck Norris.\",\n",
       "  'Note': '(8.22/10)'},\n",
       " {'Blague': \"Aux Jeux Olympiques, Chuck Norris a été disqualifié de l'épreuve de natation. Il courait sur l'eau.\",\n",
       "  'Note': '(8.22/10)'},\n",
       " {'Blague': \"Si Chuck Norris dit que tu vas passer un sale quart d'heure, rassure-toi, tu ne tiendras pas aussi longtemps.\",\n",
       "  'Note': '(8.22/10)'},\n",
       " {'Blague': \"La dernière fois que Chuck Norris a joué a Call of Duty, c'était de 1939 à 1945.\",\n",
       "  'Note': '(8.22/10)'},\n",
       " {'Blague': \"Un jour, Chuck Norris a souri à une inconnue. La fille est tombée enceinte. Depuis on construit des églises pour vénérer l'enfant.\",\n",
       "  'Note': '(8.22/10)'},\n",
       " {'Blague': \"Indiana Jones a survécu à l'explosion d'une bombe nucléaire en se cachant dans un frigo. Chuck Norris a survécu à la chute de l'astéroïde qui pulvérisa les dinosaures en mettant un k-way.\",\n",
       "  'Note': '(8.22/10)'},\n",
       " {'Blague': 'Chuck Norris peut mettre un headshot au cavalier sans tête.',\n",
       "  'Note': '(8.22/10)'},\n",
       " {'Blague': \"Quand Chuck Norris fait une erreur lors de l'examen d'histoire, l'histoire change\",\n",
       "  'Note': '(8.22/10)'},\n",
       " {'Blague': \"Si les anglais roulent à gauche, c'est parce que Chuck Norris roule à droite\",\n",
       "  'Note': '(8.22/10)'},\n",
       " {'Blague': 'Quand Chuck norris achète un produit et que le deuxième est gratuit, il ne prend que le deuxième.',\n",
       "  'Note': '(8.22/10)'},\n",
       " {'Blague': 'Chuck Norris a déjà couru une minute en moins de soixante secondes.',\n",
       "  'Note': '(8.21/10)'},\n",
       " {'Blague': 'Quand Chuck Norris laisse sa voiture ouverte la nuit dans une cité difficile, le lendemain matin il la retrouve nettoyée, aspirée avec des lettres de remerciements.',\n",
       "  'Note': '(8.21/10)'},\n",
       " {'Blague': 'Chuck Norris a eu 20/20 au bac philo 2009 en répondant \"pas pour moi\" à la question \"est il absurde de désirer l\\'impossible ?\".',\n",
       "  'Note': '(8.21/10)'},\n",
       " {'Blague': 'Chuck Norris cueille les cerises avec la queue, alors que beaucoup galèrent encore avec la main.',\n",
       "  'Note': '(8.21/10)'},\n",
       " {'Blague': 'Si Chuck Norris te donne rendez-vous le 30 Fevrier, tu y vas.',\n",
       "  'Note': '(8.21/10)'},\n",
       " {'Blague': \"Si Chuck Norris n'utilise pas l'Oreal, c'est parce qu'il vaut mieux.\",\n",
       "  'Note': '(8.21/10)'},\n",
       " {'Blague': \"Chuck Norris a toujours raison.Et s'il a tort, c'est qu'il a raison d'avoir tort.\",\n",
       "  'Note': '(8.21/10)'},\n",
       " {'Blague': 'Après un épisode de Walker Texas Ranger, il y a toujours plusieurs épisodes de FBI porté disparu. Coïncidence ? Je ne pense pas...',\n",
       "  'Note': '(8.21/10)'}]"
      ]
     },
     "execution_count": 7,
     "metadata": {},
     "output_type": "execute_result"
    }
   ],
   "source": [
    "blagues_Chuck_Norris"
   ]
  },
  {
   "cell_type": "code",
   "execution_count": 8,
   "metadata": {},
   "outputs": [],
   "source": [
    "df_blagues_Chuck_Norris = pd.DataFrame(blagues_Chuck_Norris)"
   ]
  },
  {
   "cell_type": "code",
   "execution_count": 14,
   "metadata": {},
   "outputs": [],
   "source": [
    "df_blagues_Chuck_Norris['Note']=df_blagues_Chuck_Norris['Note'].apply(lambda x: x.replace(\"/10)\",\"\").replace(\"(\",\"\"))\n",
    "df_blagues_Chuck_Norris['Note']=df_blagues_Chuck_Norris['Note'].apply(lambda x: float(x))"
   ]
  },
  {
   "cell_type": "code",
   "execution_count": 15,
   "metadata": {},
   "outputs": [
    {
     "name": "stderr",
     "output_type": "stream",
     "text": [
      "C:\\Users\\aurel\\AppData\\Roaming\\Python\\Python311\\site-packages\\seaborn\\_oldcore.py:1119: FutureWarning: use_inf_as_na option is deprecated and will be removed in a future version. Convert inf values to NaN before operating instead.\n",
      "  with pd.option_context('mode.use_inf_as_na', True):\n"
     ]
    },
    {
     "data": {
      "image/png": "[encoded data removed]",
      "text/plain": [
       "<Figure size 2000x500 with 1 Axes>"
      ]
     },
     "metadata": {},
     "output_type": "display_data"
    }
   ],
   "source": [
    "import matplotlib.pyplot as plt\n",
    "import seaborn as sns\n",
    "\n",
    "plt.figure(figsize=(20,5))\n",
    "ax = sns.histplot(df_blagues_Chuck_Norris['Note'])"
   ]
  }
 ],
 "metadata": {
  "kernelspec": {
   "display_name": "Python 3",
   "language": "python",
   "name": "python3"
  },
  "language_info": {
   "codemirror_mode": {
    "name": "ipython",
    "version": 3
   },
   "file_extension": ".py",
   "mimetype": "text/x-python",
   "name": "python",
   "nbconvert_exporter": "python",
   "pygments_lexer": "ipython3",
   "version": "3.11.8"
  }
 },
 "nbformat": 4,
 "nbformat_minor": 2
}
