{
 "cells": [
  {
   "cell_type": "code",
   "execution_count": 209,
   "metadata": {},
   "outputs": [],
   "source": [
    "import sqlite3, sqlalchemy\n",
    "from sqlalchemy import Table, Column, Integer, Float, String, MetaData, ForeignKey, create_engine, text, inspect\n",
    "from IPython.display import Markdown, display\n",
    "import warnings\n",
    "warnings.filterwarnings('ignore')\n"
   ]
  },
  {
   "cell_type": "markdown",
   "metadata": {},
   "source": [
    "## SQLAlchemy\n"
   ]
  },
  {
   "cell_type": "markdown",
   "metadata": {},
   "source": [
    "Le premier objet important de ce module est l'engine. Il nous permet de nous connecter à une base de données et d'effectuer des requêtes SQL au format texte. La fonction create_engine crée une connexion avec une base de données. Si elle n'existe pas, la fonction va en créer une. L'argument est une chaîne de caractère qui a le format suivant : 'sqlite:///chemin_vers_la_base_de_donnees.db'\n",
    "\n"
   ]
  },
  {
   "cell_type": "markdown",
   "metadata": {},
   "source": [
    "a) Créer une connexion à la base de données \"toys_and_models.sqlite\" que vous connaissez maintenant bien."
   ]
  },
  {
   "cell_type": "code",
   "execution_count": 210,
   "metadata": {},
   "outputs": [],
   "source": [
    "engine = create_engine('sqlite:///toys_and_models.sqlite', echo = True)"
   ]
  },
  {
   "cell_type": "markdown",
   "metadata": {},
   "source": [
    "Une classe très pratique pour afficher des informations sur la base est l'Inspector, c'est un outil précieux pour comprendre à la fois le schéma des données ainsi que les contraintes qui s'opèrent entre elles.\n",
    "\n",
    "b) Exécuter la cellule suivante afin d'instancier la classe Inspector dans une variable nommée inspector."
   ]
  },
  {
   "cell_type": "code",
   "execution_count": 211,
   "metadata": {},
   "outputs": [],
   "source": [
    "inspector = inspect(engine)"
   ]
  },
  {
   "cell_type": "markdown",
   "metadata": {},
   "source": [
    "A l'aide de cet objet, on va pouvoir récupérer le nom des différentes tables qui constituent la base de données. La méthode get_table_names nous permet de le faire.\n",
    "\n",
    "c) Exécuter la cellule suivante pour afficher les différentes tables présentes dans la base de données."
   ]
  },
  {
   "cell_type": "code",
   "execution_count": 212,
   "metadata": {},
   "outputs": [
    {
     "name": "stdout",
     "output_type": "stream",
     "text": [
      "2024-06-27 17:16:32,228 INFO sqlalchemy.engine.Engine BEGIN (implicit)\n",
      "2024-06-27 17:16:32,229 INFO sqlalchemy.engine.Engine SELECT name FROM sqlite_master WHERE type='table' AND name NOT LIKE 'sqlite~_%' ESCAPE '~' ORDER BY name\n",
      "2024-06-27 17:16:32,230 INFO sqlalchemy.engine.Engine [raw sql] ()\n",
      "2024-06-27 17:16:32,233 INFO sqlalchemy.engine.Engine ROLLBACK\n"
     ]
    },
    {
     "data": {
      "text/plain": [
       "['customers',\n",
       " 'employees',\n",
       " 'offices',\n",
       " 'orderdetails',\n",
       " 'orders',\n",
       " 'payments',\n",
       " 'productlines',\n",
       " 'products']"
      ]
     },
     "execution_count": 212,
     "metadata": {},
     "output_type": "execute_result"
    }
   ],
   "source": [
    "inspector.get_table_names()"
   ]
  },
  {
   "cell_type": "markdown",
   "metadata": {},
   "source": [
    "La méthode get_columns de la classe Inspector permet d'afficher les caractéristiques des différents attributs d'une table passée en argument.\n",
    "\n",
    "d) Afficher les attributs de la table customers à l'aide de la cellule suivante."
   ]
  },
  {
   "cell_type": "code",
   "execution_count": 213,
   "metadata": {},
   "outputs": [
    {
     "name": "stdout",
     "output_type": "stream",
     "text": [
      "2024-06-27 17:16:32,252 INFO sqlalchemy.engine.Engine BEGIN (implicit)\n",
      "2024-06-27 17:16:32,253 INFO sqlalchemy.engine.Engine PRAGMA main.table_xinfo(\"customers\")\n",
      "2024-06-27 17:16:32,255 INFO sqlalchemy.engine.Engine [raw sql] ()\n",
      "2024-06-27 17:16:32,258 INFO sqlalchemy.engine.Engine ROLLBACK\n"
     ]
    },
    {
     "data": {
      "text/plain": [
       "[{'name': 'customerNumber',\n",
       "  'type': INTEGER(),\n",
       "  'nullable': False,\n",
       "  'default': None,\n",
       "  'primary_key': 1},\n",
       " {'name': 'customerName',\n",
       "  'type': VARCHAR(length=50),\n",
       "  'nullable': False,\n",
       "  'default': None,\n",
       "  'primary_key': 0},\n",
       " {'name': 'contactLastName',\n",
       "  'type': VARCHAR(length=50),\n",
       "  'nullable': False,\n",
       "  'default': None,\n",
       "  'primary_key': 0},\n",
       " {'name': 'contactFirstName',\n",
       "  'type': VARCHAR(length=50),\n",
       "  'nullable': False,\n",
       "  'default': None,\n",
       "  'primary_key': 0},\n",
       " {'name': 'phone',\n",
       "  'type': VARCHAR(length=50),\n",
       "  'nullable': False,\n",
       "  'default': None,\n",
       "  'primary_key': 0},\n",
       " {'name': 'addressLine1',\n",
       "  'type': VARCHAR(length=50),\n",
       "  'nullable': False,\n",
       "  'default': None,\n",
       "  'primary_key': 0},\n",
       " {'name': 'addressLine2',\n",
       "  'type': VARCHAR(length=50),\n",
       "  'nullable': True,\n",
       "  'default': 'NULL',\n",
       "  'primary_key': 0},\n",
       " {'name': 'city',\n",
       "  'type': VARCHAR(length=50),\n",
       "  'nullable': False,\n",
       "  'default': None,\n",
       "  'primary_key': 0},\n",
       " {'name': 'state',\n",
       "  'type': VARCHAR(length=50),\n",
       "  'nullable': True,\n",
       "  'default': 'NULL',\n",
       "  'primary_key': 0},\n",
       " {'name': 'postalCode',\n",
       "  'type': VARCHAR(length=15),\n",
       "  'nullable': True,\n",
       "  'default': 'NULL',\n",
       "  'primary_key': 0},\n",
       " {'name': 'country',\n",
       "  'type': VARCHAR(length=50),\n",
       "  'nullable': False,\n",
       "  'default': None,\n",
       "  'primary_key': 0},\n",
       " {'name': 'salesRepEmployeeNumber',\n",
       "  'type': INTEGER(),\n",
       "  'nullable': True,\n",
       "  'default': 'NULL',\n",
       "  'primary_key': 0},\n",
       " {'name': 'creditLimit',\n",
       "  'type': DECIMAL(precision=10, scale=2),\n",
       "  'nullable': True,\n",
       "  'default': 'NULL',\n",
       "  'primary_key': 0}]"
      ]
     },
     "execution_count": 213,
     "metadata": {},
     "output_type": "execute_result"
    }
   ],
   "source": [
    "inspector.get_columns(table_name='customers')"
   ]
  },
  {
   "cell_type": "markdown",
   "metadata": {},
   "source": [
    "Remarquez que l'objet retourné est une liste de N éléments. \n",
    "\n",
    "Chacun de ces éléments regroupent les informations d'un attribut de la table. \n",
    "\n",
    "On peut y trouver le nom de la table mais aussi un argument primary_key qui est fixé à 1 si l'attribut est une clé primaire."
   ]
  },
  {
   "cell_type": "markdown",
   "metadata": {},
   "source": [
    "La méthode get_foreign_keys de l'objet inspector permet d'afficher les clés étrangères associées à une table passée en argument.\n",
    "\n",
    "e) afficher les clés étrangères de la table 'customers' à l'aide de la cellule suivante."
   ]
  },
  {
   "cell_type": "code",
   "execution_count": 214,
   "metadata": {},
   "outputs": [
    {
     "name": "stdout",
     "output_type": "stream",
     "text": [
      "2024-06-27 17:16:32,284 INFO sqlalchemy.engine.Engine BEGIN (implicit)\n",
      "2024-06-27 17:16:32,286 INFO sqlalchemy.engine.Engine PRAGMA main.foreign_key_list(\"customers\")\n",
      "2024-06-27 17:16:32,287 INFO sqlalchemy.engine.Engine [raw sql] ()\n",
      "2024-06-27 17:16:32,289 INFO sqlalchemy.engine.Engine PRAGMA temp.foreign_key_list(\"customers\")\n",
      "2024-06-27 17:16:32,290 INFO sqlalchemy.engine.Engine [raw sql] ()\n",
      "2024-06-27 17:16:32,292 INFO sqlalchemy.engine.Engine SELECT sql FROM  (SELECT * FROM sqlite_master UNION ALL   SELECT * FROM sqlite_temp_master) WHERE name = ? AND type in ('table', 'view')\n",
      "2024-06-27 17:16:32,293 INFO sqlalchemy.engine.Engine [raw sql] ('customers',)\n",
      "2024-06-27 17:16:32,296 INFO sqlalchemy.engine.Engine ROLLBACK\n"
     ]
    },
    {
     "data": {
      "text/plain": [
       "[]"
      ]
     },
     "execution_count": 214,
     "metadata": {},
     "output_type": "execute_result"
    }
   ],
   "source": [
    "inspector.get_foreign_keys(table_name='customers')"
   ]
  },
  {
   "cell_type": "markdown",
   "metadata": {},
   "source": [
    "Pour effectuer des requêtes SQL, on a besoin d'une connexion avec l'objet engine. Pour cela on utilise la méthode connect qui renvoie une instance de la classe Connection.\n",
    "\n",
    "f) Instancier la classe Connection dans une variable nommée conn."
   ]
  },
  {
   "cell_type": "code",
   "execution_count": 215,
   "metadata": {},
   "outputs": [],
   "source": [
    "conn = engine.connect()"
   ]
  },
  {
   "cell_type": "markdown",
   "metadata": {},
   "source": [
    "On peut désormais utiliser la méthode execute associée à une instance de la classe Connection créée précédemment.\n",
    "Elle prend en argument une chaîne de caractères qui correspond à notre requête en langage SQL.\n",
    "\n",
    "Pour obtenir le résultat de cette requête dans Python, on utilise la méthode fetchall associée à cet objet.\n",
    "\n",
    "g) Afficher 10 lignes de la colonne customerName de la table customers.\n",
    "\n",
    "Afin de s'assurer que notre requête soit bien interprétée par SQLAlchemy on utilisera la fonction text précédemment importée."
   ]
  },
  {
   "cell_type": "code",
   "execution_count": 216,
   "metadata": {},
   "outputs": [
    {
     "name": "stdout",
     "output_type": "stream",
     "text": [
      "2024-06-27 17:16:32,324 INFO sqlalchemy.engine.Engine BEGIN (implicit)\n",
      "2024-06-27 17:16:32,325 INFO sqlalchemy.engine.Engine SELECT customerName FROM customers LIMIT 10\n",
      "2024-06-27 17:16:32,326 INFO sqlalchemy.engine.Engine [generated in 0.00178s] ()\n"
     ]
    },
    {
     "data": {
      "text/plain": [
       "[('Atelier graphique',),\n",
       " ('Signal Gift Stores',),\n",
       " ('Australian Collectors, Co.',),\n",
       " ('La Rochelle Gifts',),\n",
       " ('Baane Mini Imports',),\n",
       " ('Mini Gifts Distributors Ltd.',),\n",
       " ('Havel & Zbyszek Co',),\n",
       " ('Blauer See Auto, Co.',),\n",
       " ('Mini Wheels Co.',),\n",
       " ('Land of Toys Inc.',)]"
      ]
     },
     "execution_count": 216,
     "metadata": {},
     "output_type": "execute_result"
    }
   ],
   "source": [
    "stmt= text(\"SELECT customerName FROM customers LIMIT 10\")\n",
    "\n",
    "result = conn.execute(stmt)\n",
    "\n",
    "result.fetchall()"
   ]
  },
  {
   "cell_type": "code",
   "execution_count": 217,
   "metadata": {},
   "outputs": [
    {
     "name": "stdout",
     "output_type": "stream",
     "text": [
      "2024-06-27 17:16:32,340 INFO sqlalchemy.engine.Engine SELECT customerName FROM customers LIMIT 10\n",
      "2024-06-27 17:16:32,341 INFO sqlalchemy.engine.Engine [cached since 0.01607s ago] ()\n"
     ]
    },
    {
     "data": {
      "text/plain": [
       "[('Atelier graphique',),\n",
       " ('Signal Gift Stores',),\n",
       " ('Australian Collectors, Co.',),\n",
       " ('La Rochelle Gifts',),\n",
       " ('Baane Mini Imports',),\n",
       " ('Mini Gifts Distributors Ltd.',),\n",
       " ('Havel & Zbyszek Co',),\n",
       " ('Blauer See Auto, Co.',),\n",
       " ('Mini Wheels Co.',),\n",
       " ('Land of Toys Inc.',)]"
      ]
     },
     "execution_count": 217,
     "metadata": {},
     "output_type": "execute_result"
    }
   ],
   "source": [
    "conn.execute(text(\"SELECT customerName FROM customers LIMIT 10\")).fetchall()"
   ]
  },
  {
   "cell_type": "markdown",
   "metadata": {},
   "source": [
    "h) Pour chaque commande de la table payments, le prix est identifié par amount.\n",
    "\n",
    "Afficher le montant total des commandes par identifiant client customerNumber à l'aide de la méthode GROUP BY, on pourra les trier par ordre décroissant."
   ]
  },
  {
   "cell_type": "code",
   "execution_count": 218,
   "metadata": {},
   "outputs": [
    {
     "name": "stdout",
     "output_type": "stream",
     "text": [
      "2024-06-27 17:16:32,363 INFO sqlalchemy.engine.Engine SELECT sum(amount) as total, customerNumber FROM payments group by customerNumber order by sum(amount) desc;\n",
      "2024-06-27 17:16:32,364 INFO sqlalchemy.engine.Engine [generated in 0.00161s] ()\n"
     ]
    },
    {
     "data": {
      "text/plain": [
       "[(483605.66, 141),\n",
       " (399345.61, 124),\n",
       " (180585.07, 114),\n",
       " (177913.94999999998, 151),\n",
       " (152734.99, 148),\n",
       " (148410.09, 187),\n",
       " (130305.35, 146),\n",
       " (127529.69, 278),\n",
       " (116949.68, 119),\n",
       " (116449.29, 363),\n",
       " (112440.09, 458),\n",
       " (108777.92, 298),\n",
       " (107639.94, 131),\n",
       " (107446.5, 145),\n",
       " (107185.70000000001, 276),\n",
       " (105420.57, 166),\n",
       " (104933.28, 398),\n",
       " (104545.22, 161),\n",
       " (104224.79, 121),\n",
       " (103896.73999999999, 334),\n",
       " (101872.52, 320),\n",
       " (98509.25, 157),\n",
       " (97562.47, 167),\n",
       " (95706.15, 311),\n",
       " (93803.3, 205),\n",
       " (91655.61, 282),\n",
       " (90545.37, 286),\n",
       " (90143.31, 386),\n",
       " (89909.79999999999, 227),\n",
       " (89223.14, 259),\n",
       " (87468.3, 385),\n",
       " (86553.52, 172),\n",
       " (85559.12, 321),\n",
       " (85060.0, 382),\n",
       " (84243.44, 496),\n",
       " (82223.23, 249),\n",
       " (80556.73, 324),\n",
       " (80375.24, 239),\n",
       " (80326.25, 353),\n",
       " (80180.98, 112),\n",
       " (79601.95, 323),\n",
       " (78432.16, 319),\n",
       " (77726.59, 486),\n",
       " (75937.76000000001, 128),\n",
       " (74246.12, 406),\n",
       " (73533.65000000001, 379),\n",
       " (72497.64, 181),\n",
       " (71943.56, 186),\n",
       " (71783.75, 240),\n",
       " (71547.53, 350),\n",
       " (70378.65, 455),\n",
       " (70122.19, 202),\n",
       " (69214.33, 424),\n",
       " (69059.04, 299),\n",
       " (68520.47, 216),\n",
       " (66923.85, 175),\n",
       " (66812.0, 260),\n",
       " (66710.56, 129),\n",
       " (66704.94, 412),\n",
       " (65541.74, 495),\n",
       " (62361.219999999994, 177),\n",
       " (62253.850000000006, 314),\n",
       " (61781.7, 171),\n",
       " (61167.18000000001, 201),\n",
       " (59551.38, 450),\n",
       " (58876.409999999996, 256),\n",
       " (58333.72, 462),\n",
       " (57939.34, 339),\n",
       " (56662.38, 357),\n",
       " (55577.26, 204),\n",
       " (50987.850000000006, 484),\n",
       " (49967.78, 447),\n",
       " (49898.270000000004, 189),\n",
       " (49731.100000000006, 250),\n",
       " (48809.9, 448),\n",
       " (48051.03999999999, 242),\n",
       " (46751.14, 344),\n",
       " (45480.79, 211),\n",
       " (44920.759999999995, 471),\n",
       " (43748.72, 475),\n",
       " (43680.65, 144),\n",
       " (42570.37, 487),\n",
       " (42252.87, 452),\n",
       " (41506.19, 347),\n",
       " (40701.57, 209),\n",
       " (39907.29, 233),\n",
       " (38281.509999999995, 328),\n",
       " (33757.85, 333),\n",
       " (33533.47, 362),\n",
       " (32198.690000000002, 173),\n",
       " (31310.09, 415),\n",
       " (29586.15, 489),\n",
       " (29230.43, 456),\n",
       " (29217.18, 381),\n",
       " (25358.32, 473),\n",
       " (22314.36, 103),\n",
       " (21554.260000000002, 198),\n",
       " (4465.85, 219)]"
      ]
     },
     "execution_count": 218,
     "metadata": {},
     "output_type": "execute_result"
    }
   ],
   "source": [
    "conn.execute(text(\"SELECT sum(amount) as total, customerNumber FROM payments group by customerNumber order by sum(amount) desc;\")).fetchall()"
   ]
  },
  {
   "cell_type": "markdown",
   "metadata": {},
   "source": [
    "## Création de table\n"
   ]
  },
  {
   "cell_type": "markdown",
   "metadata": {},
   "source": [
    "Nous allons voir comment alimenter la base college.db avec les parcours pédagogiques d'un établissement d'enseignement et les étudiants qui suivent des cours là-bas, mais en utilisant cette fois-ci la syntaxe SQLAlchemy.\n",
    "\n",
    "L'objet créé par la fonction MetaData permet de regrouper plusieurs informations concernant une ou plusieurs bases de données, notamment des informations sur les tables qui la composent, on utilisera cet objet lors de leurs créations.\n",
    "\n",
    "i) Créer une base de données college.db."
   ]
  },
  {
   "cell_type": "code",
   "execution_count": 219,
   "metadata": {},
   "outputs": [],
   "source": [
    "engine = create_engine('sqlite:///college.db', echo = True)"
   ]
  },
  {
   "cell_type": "markdown",
   "metadata": {},
   "source": [
    "j) Instancier un objet de la classe MetaData nommé meta."
   ]
  },
  {
   "cell_type": "code",
   "execution_count": 220,
   "metadata": {},
   "outputs": [],
   "source": [
    "meta = MetaData()"
   ]
  },
  {
   "cell_type": "markdown",
   "metadata": {},
   "source": [
    "Pour créer une table on fait appel à la classe Table. \n",
    "\n",
    "Cette fonction est liée à l'objet engine. Les deux premiers arguments sont le nom de la table, ainsi que l'objet meta que l'on a créé précédemment. \n",
    "\n",
    "Les arguments restants sont des objets de type Column représentant chacun un attribut de la table. Le constructeur de cet objet prend en arguments un nom, le type de l'attribut (String, Integer, ...) et s'il s'agit d'une clé primaire ou pas (primary_key=True).\n",
    "\n",
    "Il est possible que des erreurs surviennent dans ce module puisque vous allez créer, modifier et supprimer des éléments d'une base de données, reset le kernel ne suffira pas à réinitialiser la base. Si un problème survient, le plus simple est de supprimer les tables que vous avez créées et qui posent problème avec la commande:\n",
    "\n",
    "sql = text('DROP TABLE IF EXISTS parcours;') \n",
    "result = engine.execute(sql)\n",
    "\n",
    "et de vous réferer ensuite aux cellules de correction. Cette manipulation sera détaillée davantage dans la dernière section de ce cours.\n",
    "\n",
    "k) Créer une table parcours qui permettra d'identifier la filière de l'étudiant au sein de l'établissement. Cette table aura comme attributs l'identifiant id du parcours qui sera une clé primaire et son nom name.\n",
    "\n",
    "l) Utiliser la méthode create_all associée à l'objet meta pour sauvegarder les changements sur la base de données (l'argument pris par cette fonction est un objet engine)."
   ]
  },
  {
   "cell_type": "code",
   "execution_count": 221,
   "metadata": {},
   "outputs": [
    {
     "name": "stdout",
     "output_type": "stream",
     "text": [
      "2024-06-27 17:16:32,408 INFO sqlalchemy.engine.Engine BEGIN (implicit)\n",
      "2024-06-27 17:16:32,410 INFO sqlalchemy.engine.Engine PRAGMA main.table_info(\"parcours\")\n",
      "2024-06-27 17:16:32,413 INFO sqlalchemy.engine.Engine [raw sql] ()\n",
      "2024-06-27 17:16:32,414 INFO sqlalchemy.engine.Engine COMMIT\n"
     ]
    }
   ],
   "source": [
    "parcours = Table(\n",
    "    'parcours', meta, \n",
    "    Column('id', Integer, primary_key = True), \n",
    "    Column('name', String)\n",
    ")\n",
    "\n",
    "meta.create_all(engine)"
   ]
  },
  {
   "cell_type": "markdown",
   "metadata": {},
   "source": [
    "Grâce au echo=True, on peut voir le code utilisé pour créer la table:\n",
    "\n",
    "CREATE TABLE parcours (\n",
    "\n",
    "    id INTEGER NOT NULL,\n",
    "\n",
    "    name VARCHAR,\n",
    "\n",
    "    PRIMARY KEY (id)\n",
    "\n",
    ")\n",
    "\n",
    "Qui n'est rien d'autre que la requête que vous aviez utilisée dans le précédent notebook pour créer la table parcours.\n",
    "\n",
    "En SQL on choisit le nom de la table après le CREATE TABLE. Ensuite, entre parenthèses, on précise le nom des colonnes ainsi que leur type et des contraintes si jamais on veut en ajouter. Enfin on précise quelles sont les clés primaires.\n",
    "\n",
    "m) créer une table students ayant comme attributs un identifiant id qui en sera la clé primaire, un prénom firstname au format String, un nom lastname au format String, ainsi que l'identifiant parcours_id du parcours suivi qui est une clé étrangère.\n",
    "\n",
    "On pourra préciser une clé étrangère en utilisant la syntaxe suivante :\n",
    "\n",
    "Column('colonne_name', type, ForeignKey(\"table_name.colonne_name\"))"
   ]
  },
  {
   "cell_type": "code",
   "execution_count": 222,
   "metadata": {},
   "outputs": [
    {
     "name": "stdout",
     "output_type": "stream",
     "text": [
      "2024-06-27 17:16:32,430 INFO sqlalchemy.engine.Engine BEGIN (implicit)\n",
      "2024-06-27 17:16:32,432 INFO sqlalchemy.engine.Engine PRAGMA main.table_info(\"parcours\")\n",
      "2024-06-27 17:16:32,434 INFO sqlalchemy.engine.Engine [raw sql] ()\n",
      "2024-06-27 17:16:32,436 INFO sqlalchemy.engine.Engine PRAGMA main.table_info(\"students\")\n",
      "2024-06-27 17:16:32,438 INFO sqlalchemy.engine.Engine [raw sql] ()\n",
      "2024-06-27 17:16:32,440 INFO sqlalchemy.engine.Engine COMMIT\n"
     ]
    }
   ],
   "source": [
    "students = Table(\n",
    "    'students', meta, \n",
    "    Column('id', Integer, primary_key = True), \n",
    "    Column('firstname', String),\n",
    "    Column('lastname', String),\n",
    "    Column('parcours_id', Integer, ForeignKey('parcours.id'))\n",
    ")\n",
    "\n",
    "meta.create_all(engine)"
   ]
  },
  {
   "cell_type": "markdown",
   "metadata": {},
   "source": [
    "## Modifications de table\n"
   ]
  },
  {
   "cell_type": "markdown",
   "metadata": {},
   "source": [
    "Lorsque l'on modifie ou effectue une ou plusieurs opération(s) importante(s) sur une table, il est nécessaire de se prévenir de toute erreur de manipulation. Pour créer une transaction il faut connecter la machine à l'aide de la méthode connect de l'engine.\n",
    "\n",
    "Une transaction a un début et une fin. Le début de la transaction est indiqué par la fonction begin associée à l'objet précédemment créé par la méthode connect.\n",
    "\n",
    "Via cet objet, on pourra appeler la fonction rollback dans le cas où une opération de la transaction n'a pas été autorisée : on revient à l'état initial de la table.\n",
    "\n",
    "La fonction commit permet elle de valider la transaction le cas échéant. En Python, cela nous donne la structure suivante:"
   ]
  },
  {
   "cell_type": "code",
   "execution_count": 223,
   "metadata": {},
   "outputs": [
    {
     "data": {
      "text/plain": [
       "\"# on crée la connection    \\nwith engine.connect() as connection:\\n# début de la transaction\\n    with connection.begin() as transaction:\\n# on tente d'exécuter une transaction\\n        try:\\n            connection.execute(instruction)\\n# si la transaction échoue\\n        except:\\n            transaction.rollback()\\n            raise\\n# si la transaction réussit\\n        else:\\n            transaction.commit()\""
      ]
     },
     "execution_count": 223,
     "metadata": {},
     "output_type": "execute_result"
    }
   ],
   "source": [
    "'''# on crée la connection    \n",
    "with engine.connect() as connection:\n",
    "# début de la transaction\n",
    "    with connection.begin() as transaction:\n",
    "# on tente d'exécuter une transaction\n",
    "        try:\n",
    "            connection.execute(instruction)\n",
    "# si la transaction échoue\n",
    "        except:\n",
    "            transaction.rollback()\n",
    "            raise\n",
    "# si la transaction réussit\n",
    "        else:\n",
    "            transaction.commit()'''"
   ]
  },
  {
   "cell_type": "markdown",
   "metadata": {},
   "source": [
    "L'argument instruction correspond à l'opération qui sera effectuée au sein de la transaction.\n",
    "\n",
    "Lorsqu'on effectue une requête, qui est la forme de transaction la plus simple, ce fonctionnement est fait implicitement.\n",
    "\n",
    "Insertion de lignes\n",
    "\n",
    "Dans une table, on peut insérer ou supprimer des lignes. Ces opérations sont considérées comme des transactions et sont donc soumises aux règles qui assurent la cohérence de la base de données.\n",
    "\n",
    "Pour insérer des tuples, on doit d'abord créer une liste qui contient des tuples. Ces tuples doivent représenter les valeurs des différents attributs de la table : la liste a donc la longueur du nombre de lignes qu'on veut insérer et chaque tuple a le même nombre d'entrées que la table.\n",
    "\n",
    "n) Créer une liste values1 contenant les informations des 2 parcours de la table parcours, on les identifiera par (1, \"Data Engineering\")et (2, \"Data Science\").\n",
    "\n",
    "Créer une liste values2 contenant les informations de 2 étudiants de la table students, on choisira les noms et prénoms que l'on souhaite. Attention cependant à bien respecter les contraintes liées à l'unicité de la clé primaire et à l'existence de la clé étrangère."
   ]
  },
  {
   "cell_type": "code",
   "execution_count": 224,
   "metadata": {},
   "outputs": [],
   "source": [
    "values1 = [\n",
    "    (1, \"Data Engineering\"),\n",
    "    (2, \"Data Science\")\n",
    "    ]\n",
    "values2 = [\n",
    "    (1, \"Jean\", \"Dubois\", 1),\n",
    "    (2, \"Martin\", \"Dupont\", 2),\n",
    "    ]"
   ]
  },
  {
   "cell_type": "markdown",
   "metadata": {},
   "source": [
    "La syntaxe SQL pour ajouter un tuple dans une table est la suivante :\n",
    "\n",
    "INSERT INTO nom_table\n",
    "VALUES tuple;\n",
    "\n",
    "Cette commande est en langage SQL, et sera donc au format texte sous python si on souhaite l'exécuter.\n",
    "\n",
    "On note 'INSERT INTO {tablename} VALUES ({markers})' où tablename sera le nom de la table et markers sera une variable explicitant le format des tuples que l'on injectera dans la table.\n",
    "\n",
    "Une fois le tablename et le markers définis, on peut mettre à jour notre requête SQL en modifiant son format à l'aide de la méthode format de Python (https://docs.python.org/fr/3/tutorial/inputoutput.html#the-string-format-method ) permettant des substitutions de valeurs et des mises en forme à l'intérieur de chaînes de caractères.\n",
    "\n",
    "Cela permet que tablename et markers ne soient pas considérées comme une chaîne de caractères mais bien un argument.\n",
    "  Pour définir correctement un markers, on peut utiliser la fonction suivante ','.join( '?' * len(values[0])) qui permet de définir un format correspondant à un tuple de la bonne longueur.\n",
    "  \n",
    "o) Exécuter la cellule suivante pour insérer dans la table parcours les valeurs précédemment définies dans la liste values1."
   ]
  },
  {
   "cell_type": "code",
   "execution_count": 225,
   "metadata": {},
   "outputs": [
    {
     "name": "stdout",
     "output_type": "stream",
     "text": [
      "2024-06-27 17:16:32,478 INFO sqlalchemy.engine.Engine BEGIN (implicit)\n",
      "2024-06-27 17:16:32,479 INFO sqlalchemy.engine.Engine ROLLBACK\n"
     ]
    },
    {
     "ename": "ObjectNotExecutableError",
     "evalue": "Not an executable object: 'INSERT INTO parcours VALUES (?,?)'",
     "output_type": "error",
     "traceback": [
      "\u001b[1;31m---------------------------------------------------------------------------\u001b[0m",
      "\u001b[1;31mAttributeError\u001b[0m                            Traceback (most recent call last)",
      "File \u001b[1;32m~\\AppData\\Roaming\\Python\\Python311\\site-packages\\sqlalchemy\\engine\\base.py:1414\u001b[0m, in \u001b[0;36mConnection.execute\u001b[1;34m(self, statement, parameters, execution_options)\u001b[0m\n\u001b[0;32m   1413\u001b[0m \u001b[38;5;28;01mtry\u001b[39;00m:\n\u001b[1;32m-> 1414\u001b[0m     meth \u001b[38;5;241m=\u001b[39m \u001b[43mstatement\u001b[49m\u001b[38;5;241;43m.\u001b[39;49m\u001b[43m_execute_on_connection\u001b[49m\n\u001b[0;32m   1415\u001b[0m \u001b[38;5;28;01mexcept\u001b[39;00m \u001b[38;5;167;01mAttributeError\u001b[39;00m \u001b[38;5;28;01mas\u001b[39;00m err:\n",
      "\u001b[1;31mAttributeError\u001b[0m: 'str' object has no attribute '_execute_on_connection'",
      "\nThe above exception was the direct cause of the following exception:\n",
      "\u001b[1;31mObjectNotExecutableError\u001b[0m                  Traceback (most recent call last)",
      "Cell \u001b[1;32mIn[225], line 17\u001b[0m\n\u001b[0;32m     14\u001b[0m     ins \u001b[38;5;241m=\u001b[39m ins\u001b[38;5;241m.\u001b[39mformat(tablename\u001b[38;5;241m=\u001b[39mparcours\u001b[38;5;241m.\u001b[39mname, markers\u001b[38;5;241m=\u001b[39mmarkers)\n\u001b[0;32m     16\u001b[0m     \u001b[38;5;66;03m# Enfin on peut utiliser les tuples créés en exécutant la commande SQL\u001b[39;00m\n\u001b[1;32m---> 17\u001b[0m     \u001b[43mconnection\u001b[49m\u001b[38;5;241;43m.\u001b[39;49m\u001b[43mexecute\u001b[49m\u001b[43m(\u001b[49m\u001b[43mins\u001b[49m\u001b[43m,\u001b[49m\u001b[43m \u001b[49m\u001b[43mvalues1\u001b[49m\u001b[43m)\u001b[49m\n\u001b[0;32m     18\u001b[0m \u001b[38;5;66;03m# si la transaction échoue\u001b[39;00m\n\u001b[0;32m     19\u001b[0m \u001b[38;5;28;01mexcept\u001b[39;00m:\n",
      "File \u001b[1;32m~\\AppData\\Roaming\\Python\\Python311\\site-packages\\sqlalchemy\\engine\\base.py:1416\u001b[0m, in \u001b[0;36mConnection.execute\u001b[1;34m(self, statement, parameters, execution_options)\u001b[0m\n\u001b[0;32m   1414\u001b[0m     meth \u001b[38;5;241m=\u001b[39m statement\u001b[38;5;241m.\u001b[39m_execute_on_connection\n\u001b[0;32m   1415\u001b[0m \u001b[38;5;28;01mexcept\u001b[39;00m \u001b[38;5;167;01mAttributeError\u001b[39;00m \u001b[38;5;28;01mas\u001b[39;00m err:\n\u001b[1;32m-> 1416\u001b[0m     \u001b[38;5;28;01mraise\u001b[39;00m exc\u001b[38;5;241m.\u001b[39mObjectNotExecutableError(statement) \u001b[38;5;28;01mfrom\u001b[39;00m \u001b[38;5;21;01merr\u001b[39;00m\n\u001b[0;32m   1417\u001b[0m \u001b[38;5;28;01melse\u001b[39;00m:\n\u001b[0;32m   1418\u001b[0m     \u001b[38;5;28;01mreturn\u001b[39;00m meth(\n\u001b[0;32m   1419\u001b[0m         \u001b[38;5;28mself\u001b[39m,\n\u001b[0;32m   1420\u001b[0m         distilled_parameters,\n\u001b[0;32m   1421\u001b[0m         execution_options \u001b[38;5;129;01mor\u001b[39;00m NO_OPTIONS,\n\u001b[0;32m   1422\u001b[0m     )\n",
      "\u001b[1;31mObjectNotExecutableError\u001b[0m: Not an executable object: 'INSERT INTO parcours VALUES (?,?)'"
     ]
    }
   ],
   "source": [
    "# on crée la connection\n",
    "with engine.connect() as connection:\n",
    "    # début de la transaction\n",
    "    with connection.begin() as transaction:\n",
    "        # on tente d'exécuter une transaction\n",
    "        try:\n",
    "            # On indique le format d'un tuple de cette table\n",
    "            markers = ','.join('?' * len(values1[0]))\n",
    "            \n",
    "            # On utilise le langage SQL en format texte où markers est le format d'un tuple\n",
    "            ins = 'INSERT INTO {tablename} VALUES ({markers})'\n",
    "            \n",
    "            # On précise ce format particulier grâce à la fonction membre format\n",
    "            ins = ins.format(tablename=parcours.name, markers=markers)\n",
    "           \n",
    "            # Enfin on peut utiliser les tuples créés en exécutant la commande SQL\n",
    "            connection.execute(ins, values1)\n",
    "        # si la transaction échoue\n",
    "        except:\n",
    "            transaction.rollback()\n",
    "            raise\n",
    "        # si la transaction réussit\n",
    "        else:\n",
    "            transaction.commit()"
   ]
  },
  {
   "cell_type": "code",
   "execution_count": null,
   "metadata": {},
   "outputs": [
    {
     "name": "stdout",
     "output_type": "stream",
     "text": [
      "2024-06-27 17:15:02,160 INFO sqlalchemy.engine.Engine BEGIN (implicit)\n",
      "2024-06-27 17:15:02,162 INFO sqlalchemy.engine.Engine ROLLBACK\n",
      "Une erreur est survenue : '<' not supported between instances of 'str' and 'int'\n"
     ]
    },
    {
     "ename": "TypeError",
     "evalue": "'<' not supported between instances of 'str' and 'int'",
     "output_type": "error",
     "traceback": [
      "\u001b[1;31m---------------------------------------------------------------------------\u001b[0m",
      "\u001b[1;31mTypeError\u001b[0m                                 Traceback (most recent call last)",
      "Cell \u001b[1;32mIn[208], line 16\u001b[0m\n\u001b[0;32m     13\u001b[0m     ins \u001b[38;5;241m=\u001b[39m text(ins\u001b[38;5;241m.\u001b[39mformat(tablename\u001b[38;5;241m=\u001b[39mparcours\u001b[38;5;241m.\u001b[39mname, markers\u001b[38;5;241m=\u001b[39mmarkers))\n\u001b[0;32m     15\u001b[0m     \u001b[38;5;66;03m# Enfin on peut utiliser les tuples créés en exécutant la commande SQL\u001b[39;00m\n\u001b[1;32m---> 16\u001b[0m     \u001b[43mconnection\u001b[49m\u001b[38;5;241;43m.\u001b[39;49m\u001b[43mexecute\u001b[49m\u001b[43m(\u001b[49m\u001b[43mins\u001b[49m\u001b[43m,\u001b[49m\u001b[43m \u001b[49m\u001b[43mvalues1\u001b[49m\u001b[43m)\u001b[49m\n\u001b[0;32m     17\u001b[0m \u001b[38;5;28;01mexcept\u001b[39;00m \u001b[38;5;167;01mException\u001b[39;00m \u001b[38;5;28;01mas\u001b[39;00m e:\n\u001b[0;32m     18\u001b[0m     transaction\u001b[38;5;241m.\u001b[39mrollback()\n",
      "File \u001b[1;32m~\\AppData\\Roaming\\Python\\Python311\\site-packages\\sqlalchemy\\engine\\base.py:1418\u001b[0m, in \u001b[0;36mConnection.execute\u001b[1;34m(self, statement, parameters, execution_options)\u001b[0m\n\u001b[0;32m   1416\u001b[0m     \u001b[38;5;28;01mraise\u001b[39;00m exc\u001b[38;5;241m.\u001b[39mObjectNotExecutableError(statement) \u001b[38;5;28;01mfrom\u001b[39;00m \u001b[38;5;21;01merr\u001b[39;00m\n\u001b[0;32m   1417\u001b[0m \u001b[38;5;28;01melse\u001b[39;00m:\n\u001b[1;32m-> 1418\u001b[0m     \u001b[38;5;28;01mreturn\u001b[39;00m \u001b[43mmeth\u001b[49m\u001b[43m(\u001b[49m\n\u001b[0;32m   1419\u001b[0m \u001b[43m        \u001b[49m\u001b[38;5;28;43mself\u001b[39;49m\u001b[43m,\u001b[49m\n\u001b[0;32m   1420\u001b[0m \u001b[43m        \u001b[49m\u001b[43mdistilled_parameters\u001b[49m\u001b[43m,\u001b[49m\n\u001b[0;32m   1421\u001b[0m \u001b[43m        \u001b[49m\u001b[43mexecution_options\u001b[49m\u001b[43m \u001b[49m\u001b[38;5;129;43;01mor\u001b[39;49;00m\u001b[43m \u001b[49m\u001b[43mNO_OPTIONS\u001b[49m\u001b[43m,\u001b[49m\n\u001b[0;32m   1422\u001b[0m \u001b[43m    \u001b[49m\u001b[43m)\u001b[49m\n",
      "File \u001b[1;32m~\\AppData\\Roaming\\Python\\Python311\\site-packages\\sqlalchemy\\sql\\elements.py:515\u001b[0m, in \u001b[0;36mClauseElement._execute_on_connection\u001b[1;34m(self, connection, distilled_params, execution_options)\u001b[0m\n\u001b[0;32m    513\u001b[0m     \u001b[38;5;28;01mif\u001b[39;00m TYPE_CHECKING:\n\u001b[0;32m    514\u001b[0m         \u001b[38;5;28;01massert\u001b[39;00m \u001b[38;5;28misinstance\u001b[39m(\u001b[38;5;28mself\u001b[39m, Executable)\n\u001b[1;32m--> 515\u001b[0m     \u001b[38;5;28;01mreturn\u001b[39;00m \u001b[43mconnection\u001b[49m\u001b[38;5;241;43m.\u001b[39;49m\u001b[43m_execute_clauseelement\u001b[49m\u001b[43m(\u001b[49m\n\u001b[0;32m    516\u001b[0m \u001b[43m        \u001b[49m\u001b[38;5;28;43mself\u001b[39;49m\u001b[43m,\u001b[49m\u001b[43m \u001b[49m\u001b[43mdistilled_params\u001b[49m\u001b[43m,\u001b[49m\u001b[43m \u001b[49m\u001b[43mexecution_options\u001b[49m\n\u001b[0;32m    517\u001b[0m \u001b[43m    \u001b[49m\u001b[43m)\u001b[49m\n\u001b[0;32m    518\u001b[0m \u001b[38;5;28;01melse\u001b[39;00m:\n\u001b[0;32m    519\u001b[0m     \u001b[38;5;28;01mraise\u001b[39;00m exc\u001b[38;5;241m.\u001b[39mObjectNotExecutableError(\u001b[38;5;28mself\u001b[39m)\n",
      "File \u001b[1;32m~\\AppData\\Roaming\\Python\\Python311\\site-packages\\sqlalchemy\\engine\\base.py:1616\u001b[0m, in \u001b[0;36mConnection._execute_clauseelement\u001b[1;34m(self, elem, distilled_parameters, execution_options)\u001b[0m\n\u001b[0;32m   1604\u001b[0m     (\n\u001b[0;32m   1605\u001b[0m         elem,\n\u001b[0;32m   1606\u001b[0m         distilled_parameters,\n\u001b[1;32m   (...)\u001b[0m\n\u001b[0;32m   1610\u001b[0m         elem, distilled_parameters, execution_options\n\u001b[0;32m   1611\u001b[0m     )\n\u001b[0;32m   1613\u001b[0m \u001b[38;5;28;01mif\u001b[39;00m distilled_parameters:\n\u001b[0;32m   1614\u001b[0m     \u001b[38;5;66;03m# ensure we don't retain a link to the view object for keys()\u001b[39;00m\n\u001b[0;32m   1615\u001b[0m     \u001b[38;5;66;03m# which links to the values, which we don't want to cache\u001b[39;00m\n\u001b[1;32m-> 1616\u001b[0m     keys \u001b[38;5;241m=\u001b[39m \u001b[38;5;28msorted\u001b[39m(distilled_parameters[\u001b[38;5;241m0\u001b[39m])\n\u001b[0;32m   1617\u001b[0m     for_executemany \u001b[38;5;241m=\u001b[39m \u001b[38;5;28mlen\u001b[39m(distilled_parameters) \u001b[38;5;241m>\u001b[39m \u001b[38;5;241m1\u001b[39m\n\u001b[0;32m   1618\u001b[0m \u001b[38;5;28;01melse\u001b[39;00m:\n",
      "\u001b[1;31mTypeError\u001b[0m: '<' not supported between instances of 'str' and 'int'"
     ]
    }
   ],
   "source": [
    "# on crée la connexion\n",
    "with engine.connect() as connection:\n",
    "    # début de la transaction\n",
    "    with connection.begin() as transaction:\n",
    "        try:\n",
    "            # On indique le format d'un tuple de cette table\n",
    "            markers = ','.join('?' * len(values1[0]))\n",
    "            \n",
    "            # On utilise le langage SQL en format texte où markers est le format d'un tuple\n",
    "            ins = 'INSERT INTO {tablename} VALUES ({markers})'\n",
    "            \n",
    "            # On précise ce format particulier grâce à la fonction membre format\n",
    "            ins = text(ins.format(tablename=parcours.name, markers=markers))\n",
    "           \n",
    "            # Enfin on peut utiliser les tuples créés en exécutant la commande SQL\n",
    "            connection.execute(ins, values1)\n",
    "        except Exception as e:\n",
    "            transaction.rollback()\n",
    "            print(f\"Une erreur est survenue : {e}\")\n",
    "            raise\n",
    "        else:\n",
    "            transaction.commit()"
   ]
  },
  {
   "cell_type": "markdown",
   "metadata": {},
   "source": [
    "Si vous exécutez 2 fois le code précédent, une erreur apparaîtra car les tuples sont déjà présents dans la base. La contrainte d'unicité de la clé primaire n'est alors plus respectée.\n",
    "\n",
    "p) En utilisant une transaction SQLAlchemy, insérer dans la table students les valeurs précédemment définies dans la liste values2."
   ]
  },
  {
   "cell_type": "code",
   "execution_count": null,
   "metadata": {},
   "outputs": [],
   "source": [
    "with engine.connect() as connection:\n",
    "    with connection.begin() as transaction:\n",
    "        try:\n",
    "            markers = ','.join('?' * len(values2[0]))\n",
    "            ins = 'INSERT INTO {tablename} VALUES ({markers})'\n",
    "            ins = ins.format(tablename=students.name, markers=markers)\n",
    "            connection.execute(ins, values2)\n",
    "        except:\n",
    "            transaction.rollback()\n",
    "            raise\n",
    "        else:\n",
    "            transaction.commit()"
   ]
  },
  {
   "cell_type": "markdown",
   "metadata": {},
   "source": [
    "q) Vous pouvez lancer la cellule suivante pour voir les éléments contenus dans les bases.\n"
   ]
  },
  {
   "cell_type": "code",
   "execution_count": null,
   "metadata": {},
   "outputs": [
    {
     "ename": "ObjectNotExecutableError",
     "evalue": "Not an executable object: 'SELECT * FROM students'",
     "output_type": "error",
     "traceback": [
      "\u001b[1;31m---------------------------------------------------------------------------\u001b[0m",
      "\u001b[1;31mAttributeError\u001b[0m                            Traceback (most recent call last)",
      "File \u001b[1;32m~\\AppData\\Roaming\\Python\\Python311\\site-packages\\sqlalchemy\\engine\\base.py:1414\u001b[0m, in \u001b[0;36mConnection.execute\u001b[1;34m(self, statement, parameters, execution_options)\u001b[0m\n\u001b[0;32m   1413\u001b[0m \u001b[38;5;28;01mtry\u001b[39;00m:\n\u001b[1;32m-> 1414\u001b[0m     meth \u001b[38;5;241m=\u001b[39m \u001b[43mstatement\u001b[49m\u001b[38;5;241;43m.\u001b[39;49m\u001b[43m_execute_on_connection\u001b[49m\n\u001b[0;32m   1415\u001b[0m \u001b[38;5;28;01mexcept\u001b[39;00m \u001b[38;5;167;01mAttributeError\u001b[39;00m \u001b[38;5;28;01mas\u001b[39;00m err:\n",
      "\u001b[1;31mAttributeError\u001b[0m: 'str' object has no attribute '_execute_on_connection'",
      "\nThe above exception was the direct cause of the following exception:\n",
      "\u001b[1;31mObjectNotExecutableError\u001b[0m                  Traceback (most recent call last)",
      "Cell \u001b[1;32mIn[197], line 3\u001b[0m\n\u001b[0;32m      1\u001b[0m \u001b[38;5;66;03m# Exécuter cette cellule\u001b[39;00m\n\u001b[0;32m      2\u001b[0m \u001b[38;5;28;01mwith\u001b[39;00m engine\u001b[38;5;241m.\u001b[39mconnect() \u001b[38;5;28;01mas\u001b[39;00m connection:\n\u001b[1;32m----> 3\u001b[0m     results \u001b[38;5;241m=\u001b[39m \u001b[43mconnection\u001b[49m\u001b[38;5;241;43m.\u001b[39;49m\u001b[43mexecute\u001b[49m\u001b[43m(\u001b[49m\u001b[38;5;124;43m\"\u001b[39;49m\u001b[38;5;124;43mSELECT * FROM students\u001b[39;49m\u001b[38;5;124;43m\"\u001b[39;49m\u001b[43m)\u001b[49m\n\u001b[0;32m      4\u001b[0m     \u001b[38;5;28mprint\u001b[39m(results\u001b[38;5;241m.\u001b[39mfetchall())\n\u001b[0;32m      5\u001b[0m \u001b[38;5;28;01mwith\u001b[39;00m engine\u001b[38;5;241m.\u001b[39mconnect() \u001b[38;5;28;01mas\u001b[39;00m connection:\n",
      "File \u001b[1;32m~\\AppData\\Roaming\\Python\\Python311\\site-packages\\sqlalchemy\\engine\\base.py:1416\u001b[0m, in \u001b[0;36mConnection.execute\u001b[1;34m(self, statement, parameters, execution_options)\u001b[0m\n\u001b[0;32m   1414\u001b[0m     meth \u001b[38;5;241m=\u001b[39m statement\u001b[38;5;241m.\u001b[39m_execute_on_connection\n\u001b[0;32m   1415\u001b[0m \u001b[38;5;28;01mexcept\u001b[39;00m \u001b[38;5;167;01mAttributeError\u001b[39;00m \u001b[38;5;28;01mas\u001b[39;00m err:\n\u001b[1;32m-> 1416\u001b[0m     \u001b[38;5;28;01mraise\u001b[39;00m exc\u001b[38;5;241m.\u001b[39mObjectNotExecutableError(statement) \u001b[38;5;28;01mfrom\u001b[39;00m \u001b[38;5;21;01merr\u001b[39;00m\n\u001b[0;32m   1417\u001b[0m \u001b[38;5;28;01melse\u001b[39;00m:\n\u001b[0;32m   1418\u001b[0m     \u001b[38;5;28;01mreturn\u001b[39;00m meth(\n\u001b[0;32m   1419\u001b[0m         \u001b[38;5;28mself\u001b[39m,\n\u001b[0;32m   1420\u001b[0m         distilled_parameters,\n\u001b[0;32m   1421\u001b[0m         execution_options \u001b[38;5;129;01mor\u001b[39;00m NO_OPTIONS,\n\u001b[0;32m   1422\u001b[0m     )\n",
      "\u001b[1;31mObjectNotExecutableError\u001b[0m: Not an executable object: 'SELECT * FROM students'"
     ]
    }
   ],
   "source": [
    "# Exécuter cette cellule\n",
    "with engine.connect() as connection:\n",
    "    results = connection.execute(\"SELECT * FROM students\")\n",
    "    print(results.fetchall())\n",
    "with engine.connect() as connection:\n",
    "    results = connection.execute(\"SELECT * FROM parcours\")\n",
    "    print(results.fetchall())"
   ]
  },
  {
   "cell_type": "markdown",
   "metadata": {},
   "source": [
    "## Suppression de table\n"
   ]
  },
  {
   "cell_type": "markdown",
   "metadata": {},
   "source": [
    "\n",
    "Si l'on souhaite supprimer des lignes, il faut faire attention à la cohérence de la base de données. Dans notre exemple, on ne peut pas supprimer uniquement le tuple d'un des deux parcours de la table parcours. En effet, dans la table students un des attributs fait référence à la clé primaire d'un parcours. Cet attribut n'aurait donc plus de sens, et les transactions ACID nous permettent d'interdire ce genre de transaction.\n",
    "\n",
    "  Si un parcours est retiré du programme de l'université et doit être retiré de la base, il faut aussi supprimer les lignes des étudiants associés (ici les étudiants suivent 1 seul cursus et sont donc malheureusement mis à la porte...) dans la table students. Pour supprimer ou modifier une ligne en particulier, il faut utiliser vos connaissances en langage SQL, notamment en ce qui concerne la recherche de tuple vérifiant une condition\n",
    "On va procéder plus simplement ici et supprimer la table students.\n",
    "\n",
    "r) Supprimer la table students de la base de donnée à l'aide des connaissances acquises jusqu'ici en SQL et SQLAlchemy. Puis vérifier qu'elle est bien supprimée en essayant d'y insérer un tuple."
   ]
  }
 ],
 "metadata": {
  "kernelspec": {
   "display_name": "Python 3",
   "language": "python",
   "name": "python3"
  },
  "language_info": {
   "codemirror_mode": {
    "name": "ipython",
    "version": 3
   },
   "file_extension": ".py",
   "mimetype": "text/x-python",
   "name": "python",
   "nbconvert_exporter": "python",
   "pygments_lexer": "ipython3",
   "version": "3.11.8"
  }
 },
 "nbformat": 4,
 "nbformat_minor": 2
}
