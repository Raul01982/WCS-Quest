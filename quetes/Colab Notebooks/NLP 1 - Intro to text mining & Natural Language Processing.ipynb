{
 "cells": [
  {
   "cell_type": "code",
   "execution_count": 1,
   "metadata": {},
   "outputs": [
    {
     "name": "stderr",
     "output_type": "stream",
     "text": [
      "[nltk_data] Downloading collection 'popular'\n",
      "[nltk_data]    | \n",
      "[nltk_data]    | Downloading package cmudict to\n",
      "[nltk_data]    |     C:\\Users\\aurel\\AppData\\Roaming\\nltk_data...\n",
      "[nltk_data]    |   Package cmudict is already up-to-date!\n",
      "[nltk_data]    | Downloading package gazetteers to\n",
      "[nltk_data]    |     C:\\Users\\aurel\\AppData\\Roaming\\nltk_data...\n",
      "[nltk_data]    |   Package gazetteers is already up-to-date!\n",
      "[nltk_data]    | Downloading package genesis to\n",
      "[nltk_data]    |     C:\\Users\\aurel\\AppData\\Roaming\\nltk_data...\n",
      "[nltk_data]    |   Package genesis is already up-to-date!\n",
      "[nltk_data]    | Downloading package gutenberg to\n",
      "[nltk_data]    |     C:\\Users\\aurel\\AppData\\Roaming\\nltk_data...\n",
      "[nltk_data]    |   Package gutenberg is already up-to-date!\n",
      "[nltk_data]    | Downloading package inaugural to\n",
      "[nltk_data]    |     C:\\Users\\aurel\\AppData\\Roaming\\nltk_data...\n",
      "[nltk_data]    |   Package inaugural is already up-to-date!\n",
      "[nltk_data]    | Downloading package movie_reviews to\n",
      "[nltk_data]    |     C:\\Users\\aurel\\AppData\\Roaming\\nltk_data...\n",
      "[nltk_data]    |   Package movie_reviews is already up-to-date!\n",
      "[nltk_data]    | Downloading package names to\n",
      "[nltk_data]    |     C:\\Users\\aurel\\AppData\\Roaming\\nltk_data...\n",
      "[nltk_data]    |   Package names is already up-to-date!\n",
      "[nltk_data]    | Downloading package shakespeare to\n",
      "[nltk_data]    |     C:\\Users\\aurel\\AppData\\Roaming\\nltk_data...\n",
      "[nltk_data]    |   Package shakespeare is already up-to-date!\n",
      "[nltk_data]    | Downloading package stopwords to\n",
      "[nltk_data]    |     C:\\Users\\aurel\\AppData\\Roaming\\nltk_data...\n",
      "[nltk_data]    |   Package stopwords is already up-to-date!\n",
      "[nltk_data]    | Downloading package treebank to\n",
      "[nltk_data]    |     C:\\Users\\aurel\\AppData\\Roaming\\nltk_data...\n",
      "[nltk_data]    |   Package treebank is already up-to-date!\n",
      "[nltk_data]    | Downloading package twitter_samples to\n",
      "[nltk_data]    |     C:\\Users\\aurel\\AppData\\Roaming\\nltk_data...\n",
      "[nltk_data]    |   Package twitter_samples is already up-to-date!\n",
      "[nltk_data]    | Downloading package omw to\n",
      "[nltk_data]    |     C:\\Users\\aurel\\AppData\\Roaming\\nltk_data...\n",
      "[nltk_data]    |   Package omw is already up-to-date!\n",
      "[nltk_data]    | Downloading package omw-1.4 to\n",
      "[nltk_data]    |     C:\\Users\\aurel\\AppData\\Roaming\\nltk_data...\n",
      "[nltk_data]    |   Package omw-1.4 is already up-to-date!\n",
      "[nltk_data]    | Downloading package wordnet to\n",
      "[nltk_data]    |     C:\\Users\\aurel\\AppData\\Roaming\\nltk_data...\n",
      "[nltk_data]    |   Package wordnet is already up-to-date!\n",
      "[nltk_data]    | Downloading package wordnet2021 to\n",
      "[nltk_data]    |     C:\\Users\\aurel\\AppData\\Roaming\\nltk_data...\n",
      "[nltk_data]    |   Package wordnet2021 is already up-to-date!\n",
      "[nltk_data]    | Downloading package wordnet31 to\n",
      "[nltk_data]    |     C:\\Users\\aurel\\AppData\\Roaming\\nltk_data...\n",
      "[nltk_data]    |   Package wordnet31 is already up-to-date!\n",
      "[nltk_data]    | Downloading package wordnet_ic to\n",
      "[nltk_data]    |     C:\\Users\\aurel\\AppData\\Roaming\\nltk_data...\n",
      "[nltk_data]    |   Package wordnet_ic is already up-to-date!\n",
      "[nltk_data]    | Downloading package words to\n",
      "[nltk_data]    |     C:\\Users\\aurel\\AppData\\Roaming\\nltk_data...\n",
      "[nltk_data]    |   Package words is already up-to-date!\n",
      "[nltk_data]    | Downloading package maxent_ne_chunker to\n",
      "[nltk_data]    |     C:\\Users\\aurel\\AppData\\Roaming\\nltk_data...\n",
      "[nltk_data]    |   Package maxent_ne_chunker is already up-to-date!\n",
      "[nltk_data]    | Downloading package punkt to\n",
      "[nltk_data]    |     C:\\Users\\aurel\\AppData\\Roaming\\nltk_data...\n",
      "[nltk_data]    |   Package punkt is already up-to-date!\n",
      "[nltk_data]    | Downloading package snowball_data to\n",
      "[nltk_data]    |     C:\\Users\\aurel\\AppData\\Roaming\\nltk_data...\n",
      "[nltk_data]    |   Package snowball_data is already up-to-date!\n",
      "[nltk_data]    | Downloading package averaged_perceptron_tagger to\n",
      "[nltk_data]    |     C:\\Users\\aurel\\AppData\\Roaming\\nltk_data...\n",
      "[nltk_data]    |   Package averaged_perceptron_tagger is already up-\n",
      "[nltk_data]    |       to-date!\n",
      "[nltk_data]    | \n",
      "[nltk_data]  Done downloading collection popular\n"
     ]
    },
    {
     "data": {
      "text/plain": [
       "True"
      ]
     },
     "execution_count": 1,
     "metadata": {},
     "output_type": "execute_result"
    }
   ],
   "source": [
    "import pandas as pd\n",
    "import nltk\n",
    "nltk.download('popular')"
   ]
  },
  {
   "cell_type": "markdown",
   "metadata": {},
   "source": [
    "Avant de te lancer dans le text mining des lacets sans nœuds, fais tes armes sur les basiques de la discipline en réalisant quelques statistiques à partir d'un texte de ton choix.\n",
    "\n",
    "1/ Importe NLTK et télécharge les fonctions dont tu auras besoin (au fur et à mesure si nécessaire).\n",
    "\n",
    "2/ Récupère le texte d'un article de presse de ton choix sur internet (en anglais ce sera plus simple, mais tu peux prendre la langue de ton choix). Affecte-le à une variable via un copier/coller dans ton notebook. Par simplicité pour la suite de cette quête, nous te conseillons de prendre un texte qui fait entre 10 et 30 lignes environ. \n"
   ]
  },
  {
   "cell_type": "code",
   "execution_count": 2,
   "metadata": {},
   "outputs": [],
   "source": [
    "article = \"Un bon feuilleton, que l’on apprécie retrouver chaque semaine, doit offrir son lot de suspense et de surprise. Que penser de l’exercice 2023-2024 de la Ligue 1 conclu ce dimanche soir ? Personne n’est tombé de sa chaise en voyant le Paris SG glaner un 12e titre de champion de France. Reste à savoir ce que sera l’an prochain le visage du club le plus puissant de l’Hexagone sans Kylian Mbappé, son meilleur joueur, en partance pour le Real Madrid. Vaste débat. Pour le reste, l’AS Monaco, quatrième budget de France, a profité de la faiblesse, l’indigence ou l’irrégularité (au choix) de ses concurrents directs que sont Marseille, Lyon, ou encore Rennes et Lens, pour signer son retour en Ligue des champions la saison prochaine.\""
   ]
  },
  {
   "cell_type": "markdown",
   "metadata": {},
   "source": [
    "3/ Transforme ton texte en tokens de phrases"
   ]
  },
  {
   "cell_type": "code",
   "execution_count": 3,
   "metadata": {},
   "outputs": [
    {
     "data": {
      "text/plain": [
       "['Un bon feuilleton, que l’on apprécie retrouver chaque semaine, doit offrir son lot de suspense et de surprise.',\n",
       " 'Que penser de l’exercice 2023-2024 de la Ligue 1 conclu ce dimanche soir ?',\n",
       " 'Personne n’est tombé de sa chaise en voyant le Paris SG glaner un 12e titre de champion de France.',\n",
       " 'Reste à savoir ce que sera l’an prochain le visage du club le plus puissant de l’Hexagone sans Kylian Mbappé, son meilleur joueur, en partance pour le Real Madrid.',\n",
       " 'Vaste débat.',\n",
       " 'Pour le reste, l’AS Monaco, quatrième budget de France, a profité de la faiblesse, l’indigence ou l’irrégularité (au choix) de ses concurrents directs que sont Marseille, Lyon, ou encore Rennes et Lens, pour signer son retour en Ligue des champions la saison prochaine.']"
      ]
     },
     "execution_count": 3,
     "metadata": {},
     "output_type": "execute_result"
    }
   ],
   "source": [
    "nltk.sent_tokenize(article)"
   ]
  },
  {
   "cell_type": "markdown",
   "metadata": {},
   "source": [
    "4/ Transforme ton texte en tokens de mots"
   ]
  },
  {
   "cell_type": "code",
   "execution_count": 4,
   "metadata": {},
   "outputs": [
    {
     "data": {
      "text/plain": [
       "['Un',\n",
       " 'bon',\n",
       " 'feuilleton',\n",
       " ',',\n",
       " 'que',\n",
       " 'l',\n",
       " '’',\n",
       " 'on',\n",
       " 'apprécie',\n",
       " 'retrouver',\n",
       " 'chaque',\n",
       " 'semaine',\n",
       " ',',\n",
       " 'doit',\n",
       " 'offrir',\n",
       " 'son',\n",
       " 'lot',\n",
       " 'de',\n",
       " 'suspense',\n",
       " 'et',\n",
       " 'de',\n",
       " 'surprise',\n",
       " '.',\n",
       " 'Que',\n",
       " 'penser',\n",
       " 'de',\n",
       " 'l',\n",
       " '’',\n",
       " 'exercice',\n",
       " '2023-2024',\n",
       " 'de',\n",
       " 'la',\n",
       " 'Ligue',\n",
       " '1',\n",
       " 'conclu',\n",
       " 'ce',\n",
       " 'dimanche',\n",
       " 'soir',\n",
       " '?',\n",
       " 'Personne',\n",
       " 'n',\n",
       " '’',\n",
       " 'est',\n",
       " 'tombé',\n",
       " 'de',\n",
       " 'sa',\n",
       " 'chaise',\n",
       " 'en',\n",
       " 'voyant',\n",
       " 'le',\n",
       " 'Paris',\n",
       " 'SG',\n",
       " 'glaner',\n",
       " 'un',\n",
       " '12e',\n",
       " 'titre',\n",
       " 'de',\n",
       " 'champion',\n",
       " 'de',\n",
       " 'France',\n",
       " '.',\n",
       " 'Reste',\n",
       " 'à',\n",
       " 'savoir',\n",
       " 'ce',\n",
       " 'que',\n",
       " 'sera',\n",
       " 'l',\n",
       " '’',\n",
       " 'an',\n",
       " 'prochain',\n",
       " 'le',\n",
       " 'visage',\n",
       " 'du',\n",
       " 'club',\n",
       " 'le',\n",
       " 'plus',\n",
       " 'puissant',\n",
       " 'de',\n",
       " 'l',\n",
       " '’',\n",
       " 'Hexagone',\n",
       " 'sans',\n",
       " 'Kylian',\n",
       " 'Mbappé',\n",
       " ',',\n",
       " 'son',\n",
       " 'meilleur',\n",
       " 'joueur',\n",
       " ',',\n",
       " 'en',\n",
       " 'partance',\n",
       " 'pour',\n",
       " 'le',\n",
       " 'Real',\n",
       " 'Madrid',\n",
       " '.',\n",
       " 'Vaste',\n",
       " 'débat',\n",
       " '.',\n",
       " 'Pour',\n",
       " 'le',\n",
       " 'reste',\n",
       " ',',\n",
       " 'l',\n",
       " '’',\n",
       " 'AS',\n",
       " 'Monaco',\n",
       " ',',\n",
       " 'quatrième',\n",
       " 'budget',\n",
       " 'de',\n",
       " 'France',\n",
       " ',',\n",
       " 'a',\n",
       " 'profité',\n",
       " 'de',\n",
       " 'la',\n",
       " 'faiblesse',\n",
       " ',',\n",
       " 'l',\n",
       " '’',\n",
       " 'indigence',\n",
       " 'ou',\n",
       " 'l',\n",
       " '’',\n",
       " 'irrégularité',\n",
       " '(',\n",
       " 'au',\n",
       " 'choix',\n",
       " ')',\n",
       " 'de',\n",
       " 'ses',\n",
       " 'concurrents',\n",
       " 'directs',\n",
       " 'que',\n",
       " 'sont',\n",
       " 'Marseille',\n",
       " ',',\n",
       " 'Lyon',\n",
       " ',',\n",
       " 'ou',\n",
       " 'encore',\n",
       " 'Rennes',\n",
       " 'et',\n",
       " 'Lens',\n",
       " ',',\n",
       " 'pour',\n",
       " 'signer',\n",
       " 'son',\n",
       " 'retour',\n",
       " 'en',\n",
       " 'Ligue',\n",
       " 'des',\n",
       " 'champions',\n",
       " 'la',\n",
       " 'saison',\n",
       " 'prochaine',\n",
       " '.']"
      ]
     },
     "execution_count": 4,
     "metadata": {},
     "output_type": "execute_result"
    }
   ],
   "source": [
    "words=nltk.word_tokenize(article)\n",
    "words"
   ]
  },
  {
   "cell_type": "markdown",
   "metadata": {},
   "source": [
    "5/ Compte la fréquence d'apparition de chaque mot et réalise un graphique (si possible un diagramme en barre) qui représente les 20 mots les plus présents dans ton texte. Y a-t-il beaucoup de mots qui te semblent être des stopwords ?"
   ]
  },
  {
   "cell_type": "code",
   "execution_count": 5,
   "metadata": {},
   "outputs": [
    {
     "data": {
      "text/plain": [
       "FreqDist({',': 11, 'de': 11, '’': 8, 'l': 7, '.': 5, 'le': 5, 'que': 3, 'son': 3, 'la': 3, 'en': 3, ...})"
      ]
     },
     "execution_count": 5,
     "metadata": {},
     "output_type": "execute_result"
    }
   ],
   "source": [
    "FreqDist = nltk.FreqDist(nltk.word_tokenize(article))\n",
    "FreqDist"
   ]
  },
  {
   "cell_type": "code",
   "execution_count": 6,
   "metadata": {},
   "outputs": [],
   "source": [
    "dico = {}\n",
    "for w in set(words) :\n",
    "    dico[w] = words.count(w)\n",
    "\n",
    "df_words = pd.DataFrame.from_dict(dico, orient='index') \\\n",
    "            .sort_values(by = 0, ascending=False) \\\n",
    "            .head(20)"
   ]
  },
  {
   "cell_type": "code",
   "execution_count": 20,
   "metadata": {},
   "outputs": [
    {
     "name": "stderr",
     "output_type": "stream",
     "text": [
      "C:\\Users\\aurel\\AppData\\Roaming\\Python\\Python311\\site-packages\\seaborn\\_oldcore.py:1765: FutureWarning: unique with argument that is not not a Series, Index, ExtensionArray, or np.ndarray is deprecated and will raise in a future version.\n",
      "  order = pd.unique(vector)\n"
     ]
    },
    {
     "data": {
      "text/plain": [
       "<Axes: ylabel='0'>"
      ]
     },
     "execution_count": 20,
     "metadata": {},
     "output_type": "execute_result"
    },
    {
     "data": {
      "image/png": "[encoded data removed]",
      "text/plain": [
       "<Figure size 1600x800 with 1 Axes>"
      ]
     },
     "metadata": {},
     "output_type": "display_data"
    }
   ],
   "source": [
    "import seaborn as sns\n",
    "import matplotlib.pyplot as plt\n",
    "plt.figure(figsize=(16,8))\n",
    "sns.barplot(data = df_words, x= df_words.index.to_list(), y=0)"
   ]
  },
  {
   "cell_type": "markdown",
   "metadata": {},
   "source": [
    "il y a la ponctuation et les stopwords qui arrivent en premier !"
   ]
  },
  {
   "cell_type": "markdown",
   "metadata": {},
   "source": [
    "6/ Enlève les stop words et la ponctuation, et regarde à nouveau quels sont les mots les plus présents. Là encore, réalise le même graphique pour comparer."
   ]
  },
  {
   "cell_type": "code",
   "execution_count": 8,
   "metadata": {},
   "outputs": [
    {
     "data": {
      "text/plain": [
       "['bon',\n",
       " 'feuilleton',\n",
       " 'apprécie',\n",
       " 'retrouver',\n",
       " 'chaque',\n",
       " 'semaine',\n",
       " 'doit',\n",
       " 'offrir',\n",
       " 'lot',\n",
       " 'suspense',\n",
       " 'surprise',\n",
       " 'penser',\n",
       " 'exercice',\n",
       " '2023',\n",
       " '2024',\n",
       " 'ligue',\n",
       " '1',\n",
       " 'conclu',\n",
       " 'dimanche',\n",
       " 'soir',\n",
       " 'personne',\n",
       " 'tombé',\n",
       " 'chaise',\n",
       " 'voyant',\n",
       " 'paris',\n",
       " 'sg',\n",
       " 'glaner',\n",
       " '12e',\n",
       " 'titre',\n",
       " 'champion',\n",
       " 'france',\n",
       " 'reste',\n",
       " 'savoir',\n",
       " 'an',\n",
       " 'prochain',\n",
       " 'visage',\n",
       " 'club',\n",
       " 'plus',\n",
       " 'puissant',\n",
       " 'hexagone',\n",
       " 'sans',\n",
       " 'kylian',\n",
       " 'mbappé',\n",
       " 'meilleur',\n",
       " 'joueur',\n",
       " 'partance',\n",
       " 'real',\n",
       " 'madrid',\n",
       " 'vaste',\n",
       " 'débat',\n",
       " 'reste',\n",
       " 'monaco',\n",
       " 'quatrième',\n",
       " 'budget',\n",
       " 'france',\n",
       " 'a',\n",
       " 'profité',\n",
       " 'faiblesse',\n",
       " 'indigence',\n",
       " 'irrégularité',\n",
       " 'choix',\n",
       " 'concurrents',\n",
       " 'directs',\n",
       " 'marseille',\n",
       " 'lyon',\n",
       " 'encore',\n",
       " 'rennes',\n",
       " 'lens',\n",
       " 'signer',\n",
       " 'retour',\n",
       " 'ligue',\n",
       " 'champions',\n",
       " 'saison',\n",
       " 'prochaine']"
      ]
     },
     "execution_count": 8,
     "metadata": {},
     "output_type": "execute_result"
    }
   ],
   "source": [
    "from nltk.tokenize import RegexpTokenizer\n",
    "\n",
    "tokenizer = RegexpTokenizer(r'\\w+')\n",
    "\n",
    "article_1 = tokenizer.tokenize(article.lower())\n",
    "tokens_clean = []\n",
    "for words in article_1:\n",
    "  if words not in nltk.corpus.stopwords.words(\"french\"):\n",
    "    tokens_clean.append(words)\n",
    "\n",
    "tokens_clean"
   ]
  },
  {
   "cell_type": "code",
   "execution_count": 9,
   "metadata": {},
   "outputs": [
    {
     "data": {
      "text/plain": [
       "FreqDist({'ligue': 2, 'france': 2, 'reste': 2, 'bon': 1, 'feuilleton': 1, 'apprécie': 1, 'retrouver': 1, 'chaque': 1, 'semaine': 1, 'doit': 1, ...})"
      ]
     },
     "execution_count": 9,
     "metadata": {},
     "output_type": "execute_result"
    }
   ],
   "source": [
    "FreqDist = nltk.FreqDist(tokens_clean)\n",
    "FreqDist"
   ]
  },
  {
   "cell_type": "code",
   "execution_count": 22,
   "metadata": {},
   "outputs": [],
   "source": [
    "dico = {}\n",
    "for w in set(tokens_clean) :\n",
    "    dico[w] = tokens_clean.count(w)\n",
    "\n",
    "df_tokens_clean = pd.DataFrame.from_dict(dico, orient='index') \\\n",
    "            .sort_values(by = 0, ascending=False) \\\n",
    "            .head(20)"
   ]
  },
  {
   "cell_type": "code",
   "execution_count": 23,
   "metadata": {},
   "outputs": [
    {
     "name": "stderr",
     "output_type": "stream",
     "text": [
      "C:\\Users\\aurel\\AppData\\Roaming\\Python\\Python311\\site-packages\\seaborn\\_oldcore.py:1765: FutureWarning: unique with argument that is not not a Series, Index, ExtensionArray, or np.ndarray is deprecated and will raise in a future version.\n",
      "  order = pd.unique(vector)\n"
     ]
    },
    {
     "data": {
      "text/plain": [
       "<Axes: ylabel='0'>"
      ]
     },
     "execution_count": 23,
     "metadata": {},
     "output_type": "execute_result"
    },
    {
     "data": {
      "image/png": "[encoded data removed]",
      "text/plain": [
       "<Figure size 1600x800 with 1 Axes>"
      ]
     },
     "metadata": {},
     "output_type": "display_data"
    }
   ],
   "source": [
    "plt.figure(figsize=(16,8))\n",
    "sns.barplot(data = df_tokens_clean, x= df_tokens_clean.index.to_list(), y=0)"
   ]
  }
 ],
 "metadata": {
  "kernelspec": {
   "display_name": "Python 3",
   "language": "python",
   "name": "python3"
  },
  "language_info": {
   "codemirror_mode": {
    "name": "ipython",
    "version": 3
   },
   "file_extension": ".py",
   "mimetype": "text/x-python",
   "name": "python",
   "nbconvert_exporter": "python",
   "pygments_lexer": "ipython3",
   "version": "3.11.8"
  }
 },
 "nbformat": 4,
 "nbformat_minor": 2
}
