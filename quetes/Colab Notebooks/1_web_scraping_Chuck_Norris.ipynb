{
 "cells": [
  {
   "cell_type": "code",
   "execution_count": 93,
   "metadata": {},
   "outputs": [],
   "source": [
    "import requests\n",
    "from bs4 import BeautifulSoup\n",
    "import pandas as pd \n"
   ]
  },
  {
   "cell_type": "code",
   "execution_count": 94,
   "metadata": {},
   "outputs": [],
   "source": [
    "url = \"https://www.chucknorrisfacts.fr/facts/top/1\""
   ]
  },
  {
   "cell_type": "code",
   "execution_count": 95,
   "metadata": {},
   "outputs": [
    {
     "name": "stderr",
     "output_type": "stream",
     "text": [
      "C:\\Users\\aurel\\AppData\\Roaming\\Python\\Python311\\site-packages\\urllib3\\connectionpool.py:1103: InsecureRequestWarning: Unverified HTTPS request is being made to host 'www.chucknorrisfacts.fr'. Adding certificate verification is strongly advised. See: https://urllib3.readthedocs.io/en/latest/advanced-usage.html#tls-warnings\n",
      "  warnings.warn(\n"
     ]
    }
   ],
   "source": [
    "navigator = 'Mozilla/5.0 (Macintosh; Intel Mac OS X 10_10_1)'\n",
    "reponse = requests.get(url,headers={'User-Agent': navigator},verify=False)"
   ]
  },
  {
   "cell_type": "code",
   "execution_count": 96,
   "metadata": {},
   "outputs": [],
   "source": [
    "soup = BeautifulSoup(reponse.text,\"html.parser\")\n"
   ]
  },
  {
   "cell_type": "code",
   "execution_count": 97,
   "metadata": {},
   "outputs": [
    {
     "data": {
      "text/plain": [
       "<div class=\"container\">\n",
       "<nav class=\"navbar navbar-expand cnf-title rounded-bottom\">\n",
       "<div class=\"container-fluid\">\n",
       "<img alt=\"\" class=\"img-title\" height=\"64\" src=\"/static/img/cn_pa.png\" width=\"64\"/>\n",
       "<!-- <button class=\"navbar-toggler\" type=\"button\" data-bs-toggle=\"collapse\" data-bs-target=\"#navbarsExample04\" aria-controls=\"navbarsExample04\" aria-expanded=\"false\" aria-label=\"Toggle navigation\">\n",
       "                <span class=\"navbar-toggler-icon\"></span>\n",
       "              </button>\n",
       "            -->\n",
       "<!-- <button class=\"navbar-toggler\" type=\"button\" data-bs-toggle=\"collapse\" data-bs-target=\"#navbarNavAltMarkup\" aria-controls=\"navbarNavAltMarkup\" aria-expanded=\"false\" aria-label=\"Toggle navigation\"> \n",
       "            <span class=\"navbar-toggler-icon\"></span>\n",
       "            </button>\n",
       "            -->\n",
       "<div class=\"collapse navbar-collapse\" id=\"navbarNavAltMarkup\">\n",
       "<div class=\"navbar-nav\"></div>\n",
       "<a aria-current=\"page\" class=\"btn btn-primary\" href=\"/\">Accueil</a>\n",
       "<a aria-current=\"page\" class=\"btn btn-primary\" href=\"/facts/\">Les Facts</a>\n",
       "<!-- <a class=\"btn btn-primary\" href=\"/facts/random\">Aléatoire</a> -->\n",
       "</div>\n",
       "</div>\n",
       "</nav></div>"
      ]
     },
     "execution_count": 97,
     "metadata": {},
     "output_type": "execute_result"
    }
   ],
   "source": [
    "soup.body.div"
   ]
  },
  {
   "cell_type": "code",
   "execution_count": 98,
   "metadata": {},
   "outputs": [],
   "source": [
    "cards = soup.findAll(\"div\",{\"class\":\"card\"})\n"
   ]
  },
  {
   "cell_type": "code",
   "execution_count": 99,
   "metadata": {},
   "outputs": [
    {
     "data": {
      "text/plain": [
       "<div class=\"card\">\n",
       "<div class=\"card-body bg-light rounded\">\n",
       "<p class=\"card-text\">Les samouraïs tuent des mouches avec leurs sabres...<br/>Chuck Norris, lui, tue des samouraïs avec des mouches</p>\n",
       "</div>\n",
       "<div class=\"card-footer\">\n",
       "<div class=\"row\">\n",
       "<div class=\"col-md-8 card-footer-left smaller\">\n",
       "<a href=\"/voir_fact/100410\">#100410</a>\n",
       "<span id=\"moyenne_100410\">(8.32/10)</span>\n",
       "</div>\n",
       "<!-- <div class=\"col-md-4\">\n",
       "                <a href=\"#\"><i class=\"bi-twitter smaller\" style=\"color:#5C4202;\"></i></a> \n",
       "                <a href=\"#\"><i class=\"bi-facebook smaller\" style=\"color:#5C4202;\"></i></a>                \n",
       "            </div> -->\n",
       "<div class=\"col-md-4 bold\" id=\"vote_100410\">\n",
       "<a class=\"votelink bold smaller\" data-factid=\"100410\" data-note=\"1\" role=\"button\">[+]</a>\n",
       "<a class=\"votelink bold smaller\" data-factid=\"100410\" data-note=\"2\" role=\"button\">[++]</a>\n",
       "<a class=\"votelink bold smaller\" data-factid=\"100410\" data-note=\"3\" role=\"button\">[+++]</a>\n",
       "</div>\n",
       "</div>\n",
       "</div>\n",
       "</div>"
      ]
     },
     "execution_count": 99,
     "metadata": {},
     "output_type": "execute_result"
    }
   ],
   "source": [
    "cards[7]"
   ]
  },
  {
   "cell_type": "code",
   "execution_count": 100,
   "metadata": {},
   "outputs": [],
   "source": [
    "card = cards[7]"
   ]
  },
  {
   "cell_type": "code",
   "execution_count": 101,
   "metadata": {},
   "outputs": [
    {
     "data": {
      "text/plain": [
       "'Les samouraïs tuent des mouches avec leurs sabres...Chuck Norris, lui, tue des samouraïs avec des mouches'"
      ]
     },
     "execution_count": 101,
     "metadata": {},
     "output_type": "execute_result"
    }
   ],
   "source": [
    "card.p.text"
   ]
  },
  {
   "cell_type": "code",
   "execution_count": 102,
   "metadata": {},
   "outputs": [
    {
     "data": {
      "text/plain": [
       "'(8.32/10)'"
      ]
     },
     "execution_count": 102,
     "metadata": {},
     "output_type": "execute_result"
    }
   ],
   "source": [
    "card.span.text"
   ]
  },
  {
   "cell_type": "code",
   "execution_count": 103,
   "metadata": {},
   "outputs": [],
   "source": [
    "blagues_Chuck_Norris = []\n",
    "for c in cards:\n",
    "    news_c = {}\n",
    "    news_c['Blague'] = c.p.text\n",
    "    news_c['Note'] = c.span.text\n",
    "    blagues_Chuck_Norris.append(news_c)\n",
    "    \n"
   ]
  },
  {
   "cell_type": "code",
   "execution_count": 104,
   "metadata": {},
   "outputs": [
    {
     "data": {
      "text/plain": [
       "[{'Blague': \"Les ennemis des amis de Chuck Norris sont ses amis. Et oui! Les ennemis de Chuck Norris n'existent plus.\",\n",
       "  'Note': '(8.87/10)'},\n",
       " {'Blague': \"L'avenir se demande parfois ce que Chuck Norris lui réserve.\",\n",
       "  'Note': '(8.43/10)'},\n",
       " {'Blague': \"Un jour Chuck Norris a eu un zero en latin, depuis c'est une langue morte.\",\n",
       "  'Note': '(8.43/10)'},\n",
       " {'Blague': 'Chuck Norris ne sait pas à quoi ressemble Nicolas Sarkozy,  en effet Chuck Norris ne baisse jamais les yeux.',\n",
       "  'Note': '(8.41/10)'},\n",
       " {'Blague': '', 'Note': '(8.37/10)'},\n",
       " {'Blague': \"Chuck Norris n'a pas de père. On ne nique pas la mère de Chuck Norris.\",\n",
       "  'Note': '(8.34/10)'},\n",
       " {'Blague': \"Chuck Norris ne ment pas, c'est la vérité qui se trompe.\",\n",
       "  'Note': '(8.33/10)'},\n",
       " {'Blague': 'Les samouraïs tuent des mouches avec leurs sabres...Chuck Norris, lui, tue des samouraïs avec des mouches',\n",
       "  'Note': '(8.32/10)'},\n",
       " {'Blague': \"Cherchez l'intrus : Un rouge-gorge, un pigeon, un moineau et Chuck Norris.Réponse : Un rouge-gorge, un pigeon et un moineau.\",\n",
       "  'Note': '(8.31/10)'},\n",
       " {'Blague': \"Les ennemis de Chuck Norris lui disent souvent d'aller au diable. Le Diable aimerait bien qu'ils arrêtent.\",\n",
       "  'Note': '(8.31/10)'},\n",
       " {'Blague': 'Chuck Norris peut ressusciter un angle mort.',\n",
       "  'Note': '(8.30/10)'},\n",
       " {'Blague': 'Chuck Norris est le seul homme à posséder une bible dédicacée.',\n",
       "  'Note': '(8.29/10)'},\n",
       " {'Blague': \"Chuck Norris n'est pas égal à lui-même, il est meilleur.\",\n",
       "  'Note': '(8.29/10)'},\n",
       " {'Blague': 'Chuck Norris ne se masturbe jamais. Chuck Norris est inébranlable.',\n",
       "  'Note': '(8.29/10)'},\n",
       " {'Blague': 'Un jour, les PowerRangers ont rencontré Chuck Norris. Maintenant on les appelle les Télétubbies.',\n",
       "  'Note': '(8.29/10)'},\n",
       " {'Blague': 'Quand Chuck Norris lance une pièce, elle fait toujours pile: personne ne fait face à Chuck Norris!',\n",
       "  'Note': '(8.28/10)'},\n",
       " {'Blague': 'Chuck Norris peut se souvenir du futur.', 'Note': '(8.28/10)'},\n",
       " {'Blague': 'Hercule est un demi-dieu, Dieu est un demi-Chuck Norris',\n",
       "  'Note': '(8.27/10)'},\n",
       " {'Blague': \"Un jour, Chuck Norris a courru si vite qu'il a failli se rentrer dedans.\",\n",
       "  'Note': '(8.26/10)'},\n",
       " {'Blague': \"Chuck Norris peut faire rentrer 3 litres d'eau dans une bouteille d'un litre. En tassant bien.\",\n",
       "  'Note': '(8.25/10)'}]"
      ]
     },
     "execution_count": 104,
     "metadata": {},
     "output_type": "execute_result"
    }
   ],
   "source": [
    "blagues_Chuck_Norris"
   ]
  },
  {
   "cell_type": "code",
   "execution_count": 105,
   "metadata": {},
   "outputs": [],
   "source": [
    "df_blagues_Chuck_Norris = pd.DataFrame(blagues_Chuck_Norris)"
   ]
  },
  {
   "cell_type": "code",
   "execution_count": 106,
   "metadata": {},
   "outputs": [
    {
     "data": {
      "text/html": [
       "<div>\n",
       "<style scoped>\n",
       "    .dataframe tbody tr th:only-of-type {\n",
       "        vertical-align: middle;\n",
       "    }\n",
       "\n",
       "    .dataframe tbody tr th {\n",
       "        vertical-align: top;\n",
       "    }\n",
       "\n",
       "    .dataframe thead th {\n",
       "        text-align: right;\n",
       "    }\n",
       "</style>\n",
       "<table border=\"1\" class=\"dataframe\">\n",
       "  <thead>\n",
       "    <tr style=\"text-align: right;\">\n",
       "      <th></th>\n",
       "      <th>Blague</th>\n",
       "      <th>Note</th>\n",
       "    </tr>\n",
       "  </thead>\n",
       "  <tbody>\n",
       "    <tr>\n",
       "      <th>0</th>\n",
       "      <td>Les ennemis des amis de Chuck Norris sont ses ...</td>\n",
       "      <td>(8.87/10)</td>\n",
       "    </tr>\n",
       "    <tr>\n",
       "      <th>1</th>\n",
       "      <td>L'avenir se demande parfois ce que Chuck Norri...</td>\n",
       "      <td>(8.43/10)</td>\n",
       "    </tr>\n",
       "    <tr>\n",
       "      <th>2</th>\n",
       "      <td>Un jour Chuck Norris a eu un zero en latin, de...</td>\n",
       "      <td>(8.43/10)</td>\n",
       "    </tr>\n",
       "    <tr>\n",
       "      <th>3</th>\n",
       "      <td>Chuck Norris ne sait pas à quoi ressemble Nico...</td>\n",
       "      <td>(8.41/10)</td>\n",
       "    </tr>\n",
       "    <tr>\n",
       "      <th>4</th>\n",
       "      <td></td>\n",
       "      <td>(8.37/10)</td>\n",
       "    </tr>\n",
       "    <tr>\n",
       "      <th>5</th>\n",
       "      <td>Chuck Norris n'a pas de père. On ne nique pas ...</td>\n",
       "      <td>(8.34/10)</td>\n",
       "    </tr>\n",
       "    <tr>\n",
       "      <th>6</th>\n",
       "      <td>Chuck Norris ne ment pas, c'est la vérité qui ...</td>\n",
       "      <td>(8.33/10)</td>\n",
       "    </tr>\n",
       "    <tr>\n",
       "      <th>7</th>\n",
       "      <td>Les samouraïs tuent des mouches avec leurs sab...</td>\n",
       "      <td>(8.32/10)</td>\n",
       "    </tr>\n",
       "    <tr>\n",
       "      <th>8</th>\n",
       "      <td>Cherchez l'intrus : Un rouge-gorge, un pigeon,...</td>\n",
       "      <td>(8.31/10)</td>\n",
       "    </tr>\n",
       "    <tr>\n",
       "      <th>9</th>\n",
       "      <td>Les ennemis de Chuck Norris lui disent souvent...</td>\n",
       "      <td>(8.31/10)</td>\n",
       "    </tr>\n",
       "    <tr>\n",
       "      <th>10</th>\n",
       "      <td>Chuck Norris peut ressusciter un angle mort.</td>\n",
       "      <td>(8.30/10)</td>\n",
       "    </tr>\n",
       "    <tr>\n",
       "      <th>11</th>\n",
       "      <td>Chuck Norris est le seul homme à posséder une ...</td>\n",
       "      <td>(8.29/10)</td>\n",
       "    </tr>\n",
       "    <tr>\n",
       "      <th>12</th>\n",
       "      <td>Chuck Norris n'est pas égal à lui-même, il est...</td>\n",
       "      <td>(8.29/10)</td>\n",
       "    </tr>\n",
       "    <tr>\n",
       "      <th>13</th>\n",
       "      <td>Chuck Norris ne se masturbe jamais. Chuck Norr...</td>\n",
       "      <td>(8.29/10)</td>\n",
       "    </tr>\n",
       "    <tr>\n",
       "      <th>14</th>\n",
       "      <td>Un jour, les PowerRangers ont rencontré Chuck ...</td>\n",
       "      <td>(8.29/10)</td>\n",
       "    </tr>\n",
       "    <tr>\n",
       "      <th>15</th>\n",
       "      <td>Quand Chuck Norris lance une pièce, elle fait ...</td>\n",
       "      <td>(8.28/10)</td>\n",
       "    </tr>\n",
       "    <tr>\n",
       "      <th>16</th>\n",
       "      <td>Chuck Norris peut se souvenir du futur.</td>\n",
       "      <td>(8.28/10)</td>\n",
       "    </tr>\n",
       "    <tr>\n",
       "      <th>17</th>\n",
       "      <td>Hercule est un demi-dieu, Dieu est un demi-Chu...</td>\n",
       "      <td>(8.27/10)</td>\n",
       "    </tr>\n",
       "    <tr>\n",
       "      <th>18</th>\n",
       "      <td>Un jour, Chuck Norris a courru si vite qu'il a...</td>\n",
       "      <td>(8.26/10)</td>\n",
       "    </tr>\n",
       "    <tr>\n",
       "      <th>19</th>\n",
       "      <td>Chuck Norris peut faire rentrer 3 litres d'eau...</td>\n",
       "      <td>(8.25/10)</td>\n",
       "    </tr>\n",
       "  </tbody>\n",
       "</table>\n",
       "</div>"
      ],
      "text/plain": [
       "                                               Blague       Note\n",
       "0   Les ennemis des amis de Chuck Norris sont ses ...  (8.87/10)\n",
       "1   L'avenir se demande parfois ce que Chuck Norri...  (8.43/10)\n",
       "2   Un jour Chuck Norris a eu un zero en latin, de...  (8.43/10)\n",
       "3   Chuck Norris ne sait pas à quoi ressemble Nico...  (8.41/10)\n",
       "4                                                      (8.37/10)\n",
       "5   Chuck Norris n'a pas de père. On ne nique pas ...  (8.34/10)\n",
       "6   Chuck Norris ne ment pas, c'est la vérité qui ...  (8.33/10)\n",
       "7   Les samouraïs tuent des mouches avec leurs sab...  (8.32/10)\n",
       "8   Cherchez l'intrus : Un rouge-gorge, un pigeon,...  (8.31/10)\n",
       "9   Les ennemis de Chuck Norris lui disent souvent...  (8.31/10)\n",
       "10       Chuck Norris peut ressusciter un angle mort.  (8.30/10)\n",
       "11  Chuck Norris est le seul homme à posséder une ...  (8.29/10)\n",
       "12  Chuck Norris n'est pas égal à lui-même, il est...  (8.29/10)\n",
       "13  Chuck Norris ne se masturbe jamais. Chuck Norr...  (8.29/10)\n",
       "14  Un jour, les PowerRangers ont rencontré Chuck ...  (8.29/10)\n",
       "15  Quand Chuck Norris lance une pièce, elle fait ...  (8.28/10)\n",
       "16            Chuck Norris peut se souvenir du futur.  (8.28/10)\n",
       "17  Hercule est un demi-dieu, Dieu est un demi-Chu...  (8.27/10)\n",
       "18  Un jour, Chuck Norris a courru si vite qu'il a...  (8.26/10)\n",
       "19  Chuck Norris peut faire rentrer 3 litres d'eau...  (8.25/10)"
      ]
     },
     "execution_count": 106,
     "metadata": {},
     "output_type": "execute_result"
    }
   ],
   "source": [
    "df_blagues_Chuck_Norris"
   ]
  }
 ],
 "metadata": {
  "kernelspec": {
   "display_name": "Python 3",
   "language": "python",
   "name": "python3"
  },
  "language_info": {
   "codemirror_mode": {
    "name": "ipython",
    "version": 3
   },
   "file_extension": ".py",
   "mimetype": "text/x-python",
   "name": "python",
   "nbconvert_exporter": "python",
   "pygments_lexer": "ipython3",
   "version": "3.11.8"
  }
 },
 "nbformat": 4,
 "nbformat_minor": 2
}
