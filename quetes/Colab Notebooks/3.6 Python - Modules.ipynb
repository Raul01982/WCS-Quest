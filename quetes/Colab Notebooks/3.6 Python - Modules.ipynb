{
 "cells": [
  {
   "cell_type": "markdown",
   "metadata": {},
   "source": [
    "Dans ce challenge tu vas devoir créer ton propre module et y mettre les 8 fonctions de la quête 3.4 Python - Functions - Helping Statisticians - Part 3\n",
    "\n",
    "Ensuite tu créeras un notebook sur Google Colaboratory. Tu y importeras ton module dans ton notebook, et tu utiliseras tes fonctions pour faire le calcul ci-dessous :\n",
    "(carré de 42) + (3 au cube) + (factorielle de 5) /divisé par la (valeur absolue de (-15) ) - (maximum d'une liste de int (à créer) ) * (minimum de la liste)\n",
    "\n",
    "Ensuite, poste en commentaire le lien vers ton notebook sur Google Colaboratory en lecture."
   ]
  },
  {
   "cell_type": "code",
   "execution_count": 6,
   "metadata": {},
   "outputs": [],
   "source": [
    "from ModuleMathPerso import *"
   ]
  },
  {
   "cell_type": "code",
   "execution_count": 13,
   "metadata": {},
   "outputs": [
    {
     "data": {
      "text/plain": [
       "-2557.0"
      ]
     },
     "execution_count": 13,
     "metadata": {},
     "output_type": "execute_result"
    }
   ],
   "source": [
    "liste = [68, 99, 65, 44, 77, 44, 58, 44]\n",
    "carre(42) + cube(3) + (factorial(5) / v_absolue(-15)) - (max_list(liste) * min_list(liste))"
   ]
  }
 ],
 "metadata": {
  "kernelspec": {
   "display_name": "Python 3",
   "language": "python",
   "name": "python3"
  },
  "language_info": {
   "codemirror_mode": {
    "name": "ipython",
    "version": 3
   },
   "file_extension": ".py",
   "mimetype": "text/x-python",
   "name": "python",
   "nbconvert_exporter": "python",
   "pygments_lexer": "ipython3",
   "version": "3.11.8"
  }
 },
 "nbformat": 4,
 "nbformat_minor": 2
}
