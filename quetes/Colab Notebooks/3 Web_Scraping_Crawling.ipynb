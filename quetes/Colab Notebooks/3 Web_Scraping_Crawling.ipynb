{
 "cells": [
  {
   "cell_type": "code",
   "execution_count": 103,
   "metadata": {},
   "outputs": [],
   "source": [
    "from bs4 import BeautifulSoup\n",
    "import requests\n",
    "import pandas as pd\n",
    "url = \"https://www.allocine.fr/personne/fichepersonne-30367/filmographie/\"\n",
    "reponse = requests.get(url)\n",
    "soup = BeautifulSoup(reponse.text, 'html.parser')\n",
    "# Nous filtrons maintenant uniquement sur les films dont l'artiste est le réalisateur :\n",
    "soup_director = soup.find('div', {\"class\" : \"gd-col-left\"})\n",
    "# Puis nous cherchons tous les liens contenus dans cet encadré :\n",
    "links = soup_director.find_all('a')"
   ]
  },
  {
   "cell_type": "code",
   "execution_count": 104,
   "metadata": {},
   "outputs": [
    {
     "data": {
      "text/plain": [
       "<a class=\"responsive-table-link\" href=\"/film/fichefilm_gen_cfilm=244186.html\" title=\"The Prisoner\">The Prisoner</a>"
      ]
     },
     "execution_count": 104,
     "metadata": {},
     "output_type": "execute_result"
    }
   ],
   "source": [
    "links[0]"
   ]
  },
  {
   "cell_type": "code",
   "execution_count": 105,
   "metadata": {},
   "outputs": [
    {
     "data": {
      "text/plain": [
       "'The Prisoner'"
      ]
     },
     "execution_count": 105,
     "metadata": {},
     "output_type": "execute_result"
    }
   ],
   "source": [
    "links[0]['title']"
   ]
  },
  {
   "cell_type": "code",
   "execution_count": 106,
   "metadata": {},
   "outputs": [
    {
     "data": {
      "text/plain": [
       "'/film/fichefilm_gen_cfilm=244186.html'"
      ]
     },
     "execution_count": 106,
     "metadata": {},
     "output_type": "execute_result"
    }
   ],
   "source": [
    "links[0]['href']"
   ]
  },
  {
   "cell_type": "code",
   "execution_count": 107,
   "metadata": {},
   "outputs": [
    {
     "data": {
      "text/html": [
       "<div>\n",
       "<style scoped>\n",
       "    .dataframe tbody tr th:only-of-type {\n",
       "        vertical-align: middle;\n",
       "    }\n",
       "\n",
       "    .dataframe tbody tr th {\n",
       "        vertical-align: top;\n",
       "    }\n",
       "\n",
       "    .dataframe thead th {\n",
       "        text-align: right;\n",
       "    }\n",
       "</style>\n",
       "<table border=\"1\" class=\"dataframe\">\n",
       "  <thead>\n",
       "    <tr style=\"text-align: right;\">\n",
       "      <th></th>\n",
       "      <th>title</th>\n",
       "      <th>href</th>\n",
       "    </tr>\n",
       "  </thead>\n",
       "  <tbody>\n",
       "    <tr>\n",
       "      <th>0</th>\n",
       "      <td>The Prisoner</td>\n",
       "      <td>/film/fichefilm_gen_cfilm=244186.html</td>\n",
       "    </tr>\n",
       "    <tr>\n",
       "      <th>1</th>\n",
       "      <td>Oppenheimer</td>\n",
       "      <td>/film/fichefilm_gen_cfilm=296168.html</td>\n",
       "    </tr>\n",
       "    <tr>\n",
       "      <th>2</th>\n",
       "      <td>Tenet</td>\n",
       "      <td>/film/fichefilm_gen_cfilm=251315.html</td>\n",
       "    </tr>\n",
       "    <tr>\n",
       "      <th>3</th>\n",
       "      <td>Dunkerque</td>\n",
       "      <td>/film/fichefilm_gen_cfilm=240850.html</td>\n",
       "    </tr>\n",
       "    <tr>\n",
       "      <th>4</th>\n",
       "      <td>Quay</td>\n",
       "      <td>/film/fichefilm_gen_cfilm=239766.html</td>\n",
       "    </tr>\n",
       "    <tr>\n",
       "      <th>5</th>\n",
       "      <td>Interstellar</td>\n",
       "      <td>/film/fichefilm_gen_cfilm=114782.html</td>\n",
       "    </tr>\n",
       "    <tr>\n",
       "      <th>6</th>\n",
       "      <td>The Dark Knight Rises</td>\n",
       "      <td>/film/fichefilm_gen_cfilm=132874.html</td>\n",
       "    </tr>\n",
       "    <tr>\n",
       "      <th>7</th>\n",
       "      <td>Inception</td>\n",
       "      <td>/film/fichefilm_gen_cfilm=143692.html</td>\n",
       "    </tr>\n",
       "    <tr>\n",
       "      <th>8</th>\n",
       "      <td>The Dark Knight, Le Chevalier Noir</td>\n",
       "      <td>/film/fichefilm_gen_cfilm=115362.html</td>\n",
       "    </tr>\n",
       "    <tr>\n",
       "      <th>9</th>\n",
       "      <td>Le Prestige</td>\n",
       "      <td>/film/fichefilm_gen_cfilm=108998.html</td>\n",
       "    </tr>\n",
       "    <tr>\n",
       "      <th>10</th>\n",
       "      <td>Cinema 16 : European short films</td>\n",
       "      <td>/film/fichefilm_gen_cfilm=218495.html</td>\n",
       "    </tr>\n",
       "    <tr>\n",
       "      <th>11</th>\n",
       "      <td>Batman Begins</td>\n",
       "      <td>/film/fichefilm_gen_cfilm=51013.html</td>\n",
       "    </tr>\n",
       "    <tr>\n",
       "      <th>12</th>\n",
       "      <td>Cinema 16 : British Short Films</td>\n",
       "      <td>/film/fichefilm_gen_cfilm=147906.html</td>\n",
       "    </tr>\n",
       "    <tr>\n",
       "      <th>13</th>\n",
       "      <td>Insomnia</td>\n",
       "      <td>/film/fichefilm_gen_cfilm=32704.html</td>\n",
       "    </tr>\n",
       "    <tr>\n",
       "      <th>14</th>\n",
       "      <td>Memento</td>\n",
       "      <td>/film/fichefilm_gen_cfilm=25744.html</td>\n",
       "    </tr>\n",
       "    <tr>\n",
       "      <th>15</th>\n",
       "      <td>Following, le suiveur</td>\n",
       "      <td>/film/fichefilm_gen_cfilm=21632.html</td>\n",
       "    </tr>\n",
       "    <tr>\n",
       "      <th>16</th>\n",
       "      <td>Doodlebug</td>\n",
       "      <td>/film/fichefilm_gen_cfilm=171007.html</td>\n",
       "    </tr>\n",
       "    <tr>\n",
       "      <th>17</th>\n",
       "      <td>Making Waves – La magie du son au cinéma</td>\n",
       "      <td>/film/fichefilm_gen_cfilm=273835.html</td>\n",
       "    </tr>\n",
       "    <tr>\n",
       "      <th>18</th>\n",
       "      <td>Keys To The Street</td>\n",
       "      <td>/film/fichefilm_gen_cfilm=185432.html</td>\n",
       "    </tr>\n",
       "    <tr>\n",
       "      <th>19</th>\n",
       "      <td>Man of Steel</td>\n",
       "      <td>/film/fichefilm_gen_cfilm=123348.html</td>\n",
       "    </tr>\n",
       "    <tr>\n",
       "      <th>20</th>\n",
       "      <td>Zack Snyder's Justice League</td>\n",
       "      <td>/film/fichefilm_gen_cfilm=283327.html</td>\n",
       "    </tr>\n",
       "    <tr>\n",
       "      <th>21</th>\n",
       "      <td>Zack Snyder's Justice League: Justice is Gray</td>\n",
       "      <td>/film/fichefilm_gen_cfilm=291582.html</td>\n",
       "    </tr>\n",
       "    <tr>\n",
       "      <th>22</th>\n",
       "      <td>The Doll's Breath</td>\n",
       "      <td>/film/fichefilm_gen_cfilm=276844.html</td>\n",
       "    </tr>\n",
       "    <tr>\n",
       "      <th>23</th>\n",
       "      <td>Justice League</td>\n",
       "      <td>/film/fichefilm_gen_cfilm=126527.html</td>\n",
       "    </tr>\n",
       "    <tr>\n",
       "      <th>24</th>\n",
       "      <td>Batman v Superman : L’Aube de la Justice</td>\n",
       "      <td>/film/fichefilm_gen_cfilm=219262.html</td>\n",
       "    </tr>\n",
       "    <tr>\n",
       "      <th>25</th>\n",
       "      <td>Transcendance</td>\n",
       "      <td>/film/fichefilm_gen_cfilm=214763.html</td>\n",
       "    </tr>\n",
       "  </tbody>\n",
       "</table>\n",
       "</div>"
      ],
      "text/plain": [
       "                                            title  \\\n",
       "0                                    The Prisoner   \n",
       "1                                     Oppenheimer   \n",
       "2                                           Tenet   \n",
       "3                                       Dunkerque   \n",
       "4                                            Quay   \n",
       "5                                    Interstellar   \n",
       "6                           The Dark Knight Rises   \n",
       "7                                       Inception   \n",
       "8              The Dark Knight, Le Chevalier Noir   \n",
       "9                                     Le Prestige   \n",
       "10               Cinema 16 : European short films   \n",
       "11                                  Batman Begins   \n",
       "12                Cinema 16 : British Short Films   \n",
       "13                                       Insomnia   \n",
       "14                                        Memento   \n",
       "15                          Following, le suiveur   \n",
       "16                                      Doodlebug   \n",
       "17       Making Waves – La magie du son au cinéma   \n",
       "18                             Keys To The Street   \n",
       "19                                   Man of Steel   \n",
       "20                   Zack Snyder's Justice League   \n",
       "21  Zack Snyder's Justice League: Justice is Gray   \n",
       "22                              The Doll's Breath   \n",
       "23                                 Justice League   \n",
       "24       Batman v Superman : L’Aube de la Justice   \n",
       "25                                  Transcendance   \n",
       "\n",
       "                                     href  \n",
       "0   /film/fichefilm_gen_cfilm=244186.html  \n",
       "1   /film/fichefilm_gen_cfilm=296168.html  \n",
       "2   /film/fichefilm_gen_cfilm=251315.html  \n",
       "3   /film/fichefilm_gen_cfilm=240850.html  \n",
       "4   /film/fichefilm_gen_cfilm=239766.html  \n",
       "5   /film/fichefilm_gen_cfilm=114782.html  \n",
       "6   /film/fichefilm_gen_cfilm=132874.html  \n",
       "7   /film/fichefilm_gen_cfilm=143692.html  \n",
       "8   /film/fichefilm_gen_cfilm=115362.html  \n",
       "9   /film/fichefilm_gen_cfilm=108998.html  \n",
       "10  /film/fichefilm_gen_cfilm=218495.html  \n",
       "11   /film/fichefilm_gen_cfilm=51013.html  \n",
       "12  /film/fichefilm_gen_cfilm=147906.html  \n",
       "13   /film/fichefilm_gen_cfilm=32704.html  \n",
       "14   /film/fichefilm_gen_cfilm=25744.html  \n",
       "15   /film/fichefilm_gen_cfilm=21632.html  \n",
       "16  /film/fichefilm_gen_cfilm=171007.html  \n",
       "17  /film/fichefilm_gen_cfilm=273835.html  \n",
       "18  /film/fichefilm_gen_cfilm=185432.html  \n",
       "19  /film/fichefilm_gen_cfilm=123348.html  \n",
       "20  /film/fichefilm_gen_cfilm=283327.html  \n",
       "21  /film/fichefilm_gen_cfilm=291582.html  \n",
       "22  /film/fichefilm_gen_cfilm=276844.html  \n",
       "23  /film/fichefilm_gen_cfilm=126527.html  \n",
       "24  /film/fichefilm_gen_cfilm=219262.html  \n",
       "25  /film/fichefilm_gen_cfilm=214763.html  "
      ]
     },
     "execution_count": 107,
     "metadata": {},
     "output_type": "execute_result"
    }
   ],
   "source": [
    "df_url = pd.DataFrame({\"title\" : [i[\"title\"] for i in links],\n",
    "              \"href\" : [i[\"href\"] for i in links]})\n",
    "df_url"
   ]
  },
  {
   "cell_type": "code",
   "execution_count": 108,
   "metadata": {},
   "outputs": [],
   "source": [
    "df_url = df_url.drop(index=0)"
   ]
  },
  {
   "cell_type": "code",
   "execution_count": 109,
   "metadata": {},
   "outputs": [
    {
     "data": {
      "text/html": [
       "<div>\n",
       "<style scoped>\n",
       "    .dataframe tbody tr th:only-of-type {\n",
       "        vertical-align: middle;\n",
       "    }\n",
       "\n",
       "    .dataframe tbody tr th {\n",
       "        vertical-align: top;\n",
       "    }\n",
       "\n",
       "    .dataframe thead th {\n",
       "        text-align: right;\n",
       "    }\n",
       "</style>\n",
       "<table border=\"1\" class=\"dataframe\">\n",
       "  <thead>\n",
       "    <tr style=\"text-align: right;\">\n",
       "      <th></th>\n",
       "      <th>title</th>\n",
       "      <th>href</th>\n",
       "    </tr>\n",
       "  </thead>\n",
       "  <tbody>\n",
       "    <tr>\n",
       "      <th>1</th>\n",
       "      <td>Oppenheimer</td>\n",
       "      <td>/film/fichefilm_gen_cfilm=296168.html</td>\n",
       "    </tr>\n",
       "    <tr>\n",
       "      <th>2</th>\n",
       "      <td>Tenet</td>\n",
       "      <td>/film/fichefilm_gen_cfilm=251315.html</td>\n",
       "    </tr>\n",
       "    <tr>\n",
       "      <th>3</th>\n",
       "      <td>Dunkerque</td>\n",
       "      <td>/film/fichefilm_gen_cfilm=240850.html</td>\n",
       "    </tr>\n",
       "    <tr>\n",
       "      <th>4</th>\n",
       "      <td>Quay</td>\n",
       "      <td>/film/fichefilm_gen_cfilm=239766.html</td>\n",
       "    </tr>\n",
       "    <tr>\n",
       "      <th>5</th>\n",
       "      <td>Interstellar</td>\n",
       "      <td>/film/fichefilm_gen_cfilm=114782.html</td>\n",
       "    </tr>\n",
       "    <tr>\n",
       "      <th>6</th>\n",
       "      <td>The Dark Knight Rises</td>\n",
       "      <td>/film/fichefilm_gen_cfilm=132874.html</td>\n",
       "    </tr>\n",
       "    <tr>\n",
       "      <th>7</th>\n",
       "      <td>Inception</td>\n",
       "      <td>/film/fichefilm_gen_cfilm=143692.html</td>\n",
       "    </tr>\n",
       "    <tr>\n",
       "      <th>8</th>\n",
       "      <td>The Dark Knight, Le Chevalier Noir</td>\n",
       "      <td>/film/fichefilm_gen_cfilm=115362.html</td>\n",
       "    </tr>\n",
       "    <tr>\n",
       "      <th>9</th>\n",
       "      <td>Le Prestige</td>\n",
       "      <td>/film/fichefilm_gen_cfilm=108998.html</td>\n",
       "    </tr>\n",
       "    <tr>\n",
       "      <th>10</th>\n",
       "      <td>Cinema 16 : European short films</td>\n",
       "      <td>/film/fichefilm_gen_cfilm=218495.html</td>\n",
       "    </tr>\n",
       "    <tr>\n",
       "      <th>11</th>\n",
       "      <td>Batman Begins</td>\n",
       "      <td>/film/fichefilm_gen_cfilm=51013.html</td>\n",
       "    </tr>\n",
       "    <tr>\n",
       "      <th>12</th>\n",
       "      <td>Cinema 16 : British Short Films</td>\n",
       "      <td>/film/fichefilm_gen_cfilm=147906.html</td>\n",
       "    </tr>\n",
       "    <tr>\n",
       "      <th>13</th>\n",
       "      <td>Insomnia</td>\n",
       "      <td>/film/fichefilm_gen_cfilm=32704.html</td>\n",
       "    </tr>\n",
       "    <tr>\n",
       "      <th>14</th>\n",
       "      <td>Memento</td>\n",
       "      <td>/film/fichefilm_gen_cfilm=25744.html</td>\n",
       "    </tr>\n",
       "    <tr>\n",
       "      <th>15</th>\n",
       "      <td>Following, le suiveur</td>\n",
       "      <td>/film/fichefilm_gen_cfilm=21632.html</td>\n",
       "    </tr>\n",
       "    <tr>\n",
       "      <th>16</th>\n",
       "      <td>Doodlebug</td>\n",
       "      <td>/film/fichefilm_gen_cfilm=171007.html</td>\n",
       "    </tr>\n",
       "    <tr>\n",
       "      <th>17</th>\n",
       "      <td>Making Waves – La magie du son au cinéma</td>\n",
       "      <td>/film/fichefilm_gen_cfilm=273835.html</td>\n",
       "    </tr>\n",
       "    <tr>\n",
       "      <th>18</th>\n",
       "      <td>Keys To The Street</td>\n",
       "      <td>/film/fichefilm_gen_cfilm=185432.html</td>\n",
       "    </tr>\n",
       "    <tr>\n",
       "      <th>19</th>\n",
       "      <td>Man of Steel</td>\n",
       "      <td>/film/fichefilm_gen_cfilm=123348.html</td>\n",
       "    </tr>\n",
       "    <tr>\n",
       "      <th>20</th>\n",
       "      <td>Zack Snyder's Justice League</td>\n",
       "      <td>/film/fichefilm_gen_cfilm=283327.html</td>\n",
       "    </tr>\n",
       "    <tr>\n",
       "      <th>21</th>\n",
       "      <td>Zack Snyder's Justice League: Justice is Gray</td>\n",
       "      <td>/film/fichefilm_gen_cfilm=291582.html</td>\n",
       "    </tr>\n",
       "    <tr>\n",
       "      <th>22</th>\n",
       "      <td>The Doll's Breath</td>\n",
       "      <td>/film/fichefilm_gen_cfilm=276844.html</td>\n",
       "    </tr>\n",
       "    <tr>\n",
       "      <th>23</th>\n",
       "      <td>Justice League</td>\n",
       "      <td>/film/fichefilm_gen_cfilm=126527.html</td>\n",
       "    </tr>\n",
       "    <tr>\n",
       "      <th>24</th>\n",
       "      <td>Batman v Superman : L’Aube de la Justice</td>\n",
       "      <td>/film/fichefilm_gen_cfilm=219262.html</td>\n",
       "    </tr>\n",
       "    <tr>\n",
       "      <th>25</th>\n",
       "      <td>Transcendance</td>\n",
       "      <td>/film/fichefilm_gen_cfilm=214763.html</td>\n",
       "    </tr>\n",
       "  </tbody>\n",
       "</table>\n",
       "</div>"
      ],
      "text/plain": [
       "                                            title  \\\n",
       "1                                     Oppenheimer   \n",
       "2                                           Tenet   \n",
       "3                                       Dunkerque   \n",
       "4                                            Quay   \n",
       "5                                    Interstellar   \n",
       "6                           The Dark Knight Rises   \n",
       "7                                       Inception   \n",
       "8              The Dark Knight, Le Chevalier Noir   \n",
       "9                                     Le Prestige   \n",
       "10               Cinema 16 : European short films   \n",
       "11                                  Batman Begins   \n",
       "12                Cinema 16 : British Short Films   \n",
       "13                                       Insomnia   \n",
       "14                                        Memento   \n",
       "15                          Following, le suiveur   \n",
       "16                                      Doodlebug   \n",
       "17       Making Waves – La magie du son au cinéma   \n",
       "18                             Keys To The Street   \n",
       "19                                   Man of Steel   \n",
       "20                   Zack Snyder's Justice League   \n",
       "21  Zack Snyder's Justice League: Justice is Gray   \n",
       "22                              The Doll's Breath   \n",
       "23                                 Justice League   \n",
       "24       Batman v Superman : L’Aube de la Justice   \n",
       "25                                  Transcendance   \n",
       "\n",
       "                                     href  \n",
       "1   /film/fichefilm_gen_cfilm=296168.html  \n",
       "2   /film/fichefilm_gen_cfilm=251315.html  \n",
       "3   /film/fichefilm_gen_cfilm=240850.html  \n",
       "4   /film/fichefilm_gen_cfilm=239766.html  \n",
       "5   /film/fichefilm_gen_cfilm=114782.html  \n",
       "6   /film/fichefilm_gen_cfilm=132874.html  \n",
       "7   /film/fichefilm_gen_cfilm=143692.html  \n",
       "8   /film/fichefilm_gen_cfilm=115362.html  \n",
       "9   /film/fichefilm_gen_cfilm=108998.html  \n",
       "10  /film/fichefilm_gen_cfilm=218495.html  \n",
       "11   /film/fichefilm_gen_cfilm=51013.html  \n",
       "12  /film/fichefilm_gen_cfilm=147906.html  \n",
       "13   /film/fichefilm_gen_cfilm=32704.html  \n",
       "14   /film/fichefilm_gen_cfilm=25744.html  \n",
       "15   /film/fichefilm_gen_cfilm=21632.html  \n",
       "16  /film/fichefilm_gen_cfilm=171007.html  \n",
       "17  /film/fichefilm_gen_cfilm=273835.html  \n",
       "18  /film/fichefilm_gen_cfilm=185432.html  \n",
       "19  /film/fichefilm_gen_cfilm=123348.html  \n",
       "20  /film/fichefilm_gen_cfilm=283327.html  \n",
       "21  /film/fichefilm_gen_cfilm=291582.html  \n",
       "22  /film/fichefilm_gen_cfilm=276844.html  \n",
       "23  /film/fichefilm_gen_cfilm=126527.html  \n",
       "24  /film/fichefilm_gen_cfilm=219262.html  \n",
       "25  /film/fichefilm_gen_cfilm=214763.html  "
      ]
     },
     "execution_count": 109,
     "metadata": {},
     "output_type": "execute_result"
    }
   ],
   "source": [
    "df_url"
   ]
  },
  {
   "cell_type": "code",
   "execution_count": 132,
   "metadata": {},
   "outputs": [
    {
     "data": {
      "text/plain": [
       "<a class=\"end-section-link\" href=\"/film/fichefilm-114782/casting/\" title=\"Casting complet et équipe technique\">Casting complet et équipe technique</a>"
      ]
     },
     "execution_count": 132,
     "metadata": {},
     "output_type": "execute_result"
    }
   ],
   "source": [
    "# film : Interstellar\n",
    "url = \"https://www.allocine.fr\" + \"/film/fichefilm_gen_cfilm=114782.html\"\n",
    "reponse = requests.get(url)\n",
    "soup = BeautifulSoup(reponse.text, 'html.parser')\n",
    "detail = soup.find(\"div\", {\"class\" : \"gd-col-left\"})\n",
    "details = detail.find('a',{\"class\": \"end-section-link\"})\n",
    "details\n",
    "\n"
   ]
  },
  {
   "cell_type": "code",
   "execution_count": 133,
   "metadata": {},
   "outputs": [
    {
     "data": {
      "text/plain": [
       "'Casting complet et équipe technique'"
      ]
     },
     "execution_count": 133,
     "metadata": {},
     "output_type": "execute_result"
    }
   ],
   "source": [
    "details['title']"
   ]
  },
  {
   "cell_type": "code",
   "execution_count": 134,
   "metadata": {},
   "outputs": [
    {
     "data": {
      "text/plain": [
       "'/film/fichefilm-114782/casting/'"
      ]
     },
     "execution_count": 134,
     "metadata": {},
     "output_type": "execute_result"
    }
   ],
   "source": [
    "details['href']"
   ]
  },
  {
   "cell_type": "code",
   "execution_count": 135,
   "metadata": {},
   "outputs": [
    {
     "data": {
      "text/plain": [
       "[<a class=\"meta-title-link\" href=\"/personne/fichepersonne_gen_cpersonne=19334.html\">Matthew McConaughey</a>,\n",
       " <a class=\"meta-title-link\" href=\"/personne/fichepersonne_gen_cpersonne=65719.html\">Anne Hathaway</a>,\n",
       " <a class=\"meta-title-link\" href=\"/personne/fichepersonne_gen_cpersonne=2535.html\">Michael Caine</a>,\n",
       " <a class=\"meta-title-link\" href=\"/personne/fichepersonne_gen_cpersonne=5293.html\">John Lithgow</a>,\n",
       " <a class=\"meta-title-link\" href=\"/personne/fichepersonne_gen_cpersonne=117304.html\">Jessica Chastain</a>,\n",
       " <a class=\"meta-title-link\" href=\"/personne/fichepersonne_gen_cpersonne=1196.html\">Casey Affleck</a>,\n",
       " <a class=\"meta-title-link\" href=\"/personne/fichepersonne_gen_cpersonne=487728.html\">Mackenzie Foy</a>,\n",
       " <a class=\"meta-title-link\" href=\"/personne/fichepersonne_gen_cpersonne=35000.html\">Wes Bentley</a>]"
      ]
     },
     "execution_count": 135,
     "metadata": {},
     "output_type": "execute_result"
    }
   ],
   "source": [
    "url = \"https://www.allocine.fr\" + '/film/fichefilm-114782/casting/'\n",
    "reponse = requests.get(url)\n",
    "soup = BeautifulSoup(reponse.text, \"html.parser\")\n",
    "detail = soup.find(\"section\", {\"class\" : \"section casting-actor\"})\n",
    "details = detail.find_all(\"a\", {\"class\" :\"meta-title-link\"})\n",
    "details"
   ]
  },
  {
   "cell_type": "code",
   "execution_count": 136,
   "metadata": {},
   "outputs": [
    {
     "data": {
      "text/html": [
       "<div>\n",
       "<style scoped>\n",
       "    .dataframe tbody tr th:only-of-type {\n",
       "        vertical-align: middle;\n",
       "    }\n",
       "\n",
       "    .dataframe tbody tr th {\n",
       "        vertical-align: top;\n",
       "    }\n",
       "\n",
       "    .dataframe thead th {\n",
       "        text-align: right;\n",
       "    }\n",
       "</style>\n",
       "<table border=\"1\" class=\"dataframe\">\n",
       "  <thead>\n",
       "    <tr style=\"text-align: right;\">\n",
       "      <th></th>\n",
       "      <th>Name</th>\n",
       "      <th>href</th>\n",
       "    </tr>\n",
       "  </thead>\n",
       "  <tbody>\n",
       "    <tr>\n",
       "      <th>0</th>\n",
       "      <td>Matthew McConaughey</td>\n",
       "      <td>/personne/fichepersonne_gen_cpersonne=19334.html</td>\n",
       "    </tr>\n",
       "    <tr>\n",
       "      <th>1</th>\n",
       "      <td>Anne Hathaway</td>\n",
       "      <td>/personne/fichepersonne_gen_cpersonne=65719.html</td>\n",
       "    </tr>\n",
       "    <tr>\n",
       "      <th>2</th>\n",
       "      <td>Michael Caine</td>\n",
       "      <td>/personne/fichepersonne_gen_cpersonne=2535.html</td>\n",
       "    </tr>\n",
       "    <tr>\n",
       "      <th>3</th>\n",
       "      <td>John Lithgow</td>\n",
       "      <td>/personne/fichepersonne_gen_cpersonne=5293.html</td>\n",
       "    </tr>\n",
       "    <tr>\n",
       "      <th>4</th>\n",
       "      <td>Jessica Chastain</td>\n",
       "      <td>/personne/fichepersonne_gen_cpersonne=117304.html</td>\n",
       "    </tr>\n",
       "    <tr>\n",
       "      <th>5</th>\n",
       "      <td>Casey Affleck</td>\n",
       "      <td>/personne/fichepersonne_gen_cpersonne=1196.html</td>\n",
       "    </tr>\n",
       "    <tr>\n",
       "      <th>6</th>\n",
       "      <td>Mackenzie Foy</td>\n",
       "      <td>/personne/fichepersonne_gen_cpersonne=487728.html</td>\n",
       "    </tr>\n",
       "    <tr>\n",
       "      <th>7</th>\n",
       "      <td>Wes Bentley</td>\n",
       "      <td>/personne/fichepersonne_gen_cpersonne=35000.html</td>\n",
       "    </tr>\n",
       "  </tbody>\n",
       "</table>\n",
       "</div>"
      ],
      "text/plain": [
       "                  Name                                               href\n",
       "0  Matthew McConaughey   /personne/fichepersonne_gen_cpersonne=19334.html\n",
       "1        Anne Hathaway   /personne/fichepersonne_gen_cpersonne=65719.html\n",
       "2        Michael Caine    /personne/fichepersonne_gen_cpersonne=2535.html\n",
       "3         John Lithgow    /personne/fichepersonne_gen_cpersonne=5293.html\n",
       "4     Jessica Chastain  /personne/fichepersonne_gen_cpersonne=117304.html\n",
       "5        Casey Affleck    /personne/fichepersonne_gen_cpersonne=1196.html\n",
       "6        Mackenzie Foy  /personne/fichepersonne_gen_cpersonne=487728.html\n",
       "7          Wes Bentley   /personne/fichepersonne_gen_cpersonne=35000.html"
      ]
     },
     "execution_count": 136,
     "metadata": {},
     "output_type": "execute_result"
    }
   ],
   "source": [
    "df_details = pd.DataFrame({\"Name\" : [i.text for i in details],\n",
    "              \"href\" : [i[\"href\"] for i in details]})\n",
    "df_details"
   ]
  },
  {
   "cell_type": "markdown",
   "metadata": {},
   "source": [
    "Age moyen au moment du films de tout les acteurs qui ont joué dans Interstellar de Christopher Nolan :"
   ]
  },
  {
   "cell_type": "code",
   "execution_count": 244,
   "metadata": {},
   "outputs": [],
   "source": [
    "import re\n",
    "liste_age = []\n",
    "for i in df_details['href']:\n",
    "    url = \"https://www.allocine.fr\" + i\n",
    "    reponse = requests.get(url)\n",
    "    soup = BeautifulSoup(reponse.text, \"html.parser\")\n",
    "    detail = soup.find(\"section\", {\"class\" : \"section ovw\"})\n",
    "    details = detail.find_all(\"div\", {\"class\" :\"meta-body-item\"})\n",
    "    date = re.findall(\"(\\d+)( \\w+ )(\\d+)\", str(detail))\n",
    "    année_n = date[0]\n",
    "    année = int(année_n[2])\n",
    "    age = 2014 - année\n",
    "    liste_age.append(age)"
   ]
  },
  {
   "cell_type": "code",
   "execution_count": 245,
   "metadata": {},
   "outputs": [
    {
     "name": "stdout",
     "output_type": "stream",
     "text": [
      "l'age moyen est de 44.12 ans\n"
     ]
    }
   ],
   "source": [
    "len_liste = len(liste_age)\n",
    "sum_liste = sum(liste_age)\n",
    "mean_liste = sum_liste/len_liste\n",
    "print(f\"l'age moyen est de {round(mean_liste,2)} ans\")"
   ]
  },
  {
   "cell_type": "markdown",
   "metadata": {},
   "source": [
    "Age moyen aujourd'hui de tout les acteurs qui ont joué dans Interstellar de Christopher Nolan :"
   ]
  },
  {
   "cell_type": "code",
   "execution_count": 215,
   "metadata": {},
   "outputs": [],
   "source": [
    "liste_age = []\n",
    "for i in df_details['href']:\n",
    "    url = \"https://www.allocine.fr\" + i\n",
    "    reponse = requests.get(url)\n",
    "    soup = BeautifulSoup(reponse.text, \"html.parser\")\n",
    "    detail = soup.find(\"section\", {\"class\" : \"section ovw\"})\n",
    "    details = detail.find_all(\"div\", {\"class\" :\"dark-grey\"})\n",
    "    srt_age = details[1].text\n",
    "    age = srt_age.split(\" \")[0]\n",
    "    liste_age.append(int(age))"
   ]
  },
  {
   "cell_type": "code",
   "execution_count": 217,
   "metadata": {},
   "outputs": [
    {
     "name": "stdout",
     "output_type": "stream",
     "text": [
      "l'age moyen est de 53.38 ans\n"
     ]
    }
   ],
   "source": [
    "len_liste = len(liste_age)\n",
    "sum_liste = sum(liste_age)\n",
    "mean_liste = sum_liste/len_liste\n",
    "print(f\"l'age moyen est de {round(mean_liste,2)} ans\")"
   ]
  },
  {
   "cell_type": "markdown",
   "metadata": {},
   "source": [
    "Age moyen aujourd'hui de tout les acteurs qui ont joué dans des films de Christopher Nolan :"
   ]
  },
  {
   "cell_type": "code",
   "execution_count": 131,
   "metadata": {},
   "outputs": [],
   "source": [
    "liste_age = []\n",
    "for i in df_url['href']:\n",
    "    try:\n",
    "        url_1 = \"https://www.allocine.fr\" + i\n",
    "        reponse_1 = requests.get(url_1)\n",
    "        soup_1 = BeautifulSoup(reponse_1.text, 'html.parser')\n",
    "        detail_1 = soup_1.find(\"div\", {\"class\" : \"gd-col-left\"})\n",
    "        casting_1 = detail_1.find('a',{\"class\": \"end-section-link\"})\n",
    "        url_2 = \"https://www.allocine.fr\" + casting_1['href']\n",
    "        reponse_2 = requests.get(url_2)\n",
    "        soup_2 = BeautifulSoup(reponse_2.text, 'html.parser')\n",
    "        detail_2 = soup_2.find(\"section\", {\"class\" : \"section casting-actor\"})\n",
    "        casting_2 = detail_2.find_all(\"a\", {\"class\" :\"meta-title-link\"})\n",
    "    except:\n",
    "        pass\n",
    "    for c in casting_2:\n",
    "        try:\n",
    "            url_3 = \"https://www.allocine.fr\" + c['href']\n",
    "            reponse_3 = requests.get(url_3)\n",
    "            soup_3 = BeautifulSoup(reponse_3.text, \"html.parser\")\n",
    "            detail_3 = soup_3.find(\"section\", {\"class\" : \"section ovw\"})\n",
    "            info = detail_3.find_all(\"div\", {\"class\" :\"dark-grey\"})\n",
    "            srt_age = info[1].text\n",
    "            age = srt_age.split(\" \")[0]\n",
    "            liste_age.append(int(age))\n",
    "        except:\n",
    "            pass\n",
    "    \n"
   ]
  },
  {
   "cell_type": "code",
   "execution_count": 142,
   "metadata": {},
   "outputs": [
    {
     "data": {
      "text/plain": [
       "50.41"
      ]
     },
     "execution_count": 142,
     "metadata": {},
     "output_type": "execute_result"
    }
   ],
   "source": [
    "len_liste = len(liste_age)\n",
    "sum_liste = sum(liste_age)\n",
    "mean_liste = sum_liste/len_liste\n",
    "round(mean_liste,2)"
   ]
  }
 ],
 "metadata": {
  "kernelspec": {
   "display_name": "Python 3",
   "language": "python",
   "name": "python3"
  },
  "language_info": {
   "codemirror_mode": {
    "name": "ipython",
    "version": 3
   },
   "file_extension": ".py",
   "mimetype": "text/x-python",
   "name": "python",
   "nbconvert_exporter": "python",
   "pygments_lexer": "ipython3",
   "version": "3.11.8"
  }
 },
 "nbformat": 4,
 "nbformat_minor": 2
}
